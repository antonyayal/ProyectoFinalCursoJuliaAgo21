{
 "cells": [
  {
   "cell_type": "code",
   "execution_count": 1,
   "metadata": {},
   "outputs": [
    {
     "name": "stdout",
     "output_type": "stream",
     "text": [
      "Hola mundo"
     ]
    }
   ],
   "source": [
    "print(\"Hola mundo\")\n"
   ]
  },
  {
   "cell_type": "code",
   "execution_count": 2,
   "metadata": {},
   "outputs": [
    {
     "data": {
      "text/plain": [
       "3"
      ]
     },
     "execution_count": 2,
     "metadata": {},
     "output_type": "execute_result"
    }
   ],
   "source": [
    "3"
   ]
  },
  {
   "cell_type": "code",
   "execution_count": 3,
   "metadata": {},
   "outputs": [
    {
     "data": {
      "text/plain": [
       "15"
      ]
     },
     "execution_count": 3,
     "metadata": {},
     "output_type": "execute_result"
    }
   ],
   "source": [
    "3*5"
   ]
  },
  {
   "cell_type": "code",
   "execution_count": 4,
   "metadata": {},
   "outputs": [
    {
     "name": "stdout",
     "output_type": "stream",
     "text": [
      "search: \u001b[0m\u001b[1mp\u001b[22m\u001b[0m\u001b[1mw\u001b[22m\u001b[0m\u001b[1md\u001b[22m \u001b[0m\u001b[1mp\u001b[22mo\u001b[0m\u001b[1mw\u001b[22mermo\u001b[0m\u001b[1md\u001b[22m\n",
      "\n"
     ]
    },
    {
     "data": {
      "text/latex": [
       "\\begin{verbatim}\n",
       "pwd() -> AbstractString\n",
       "\\end{verbatim}\n",
       "Get the current working directory.\n",
       "\n",
       "\\section{Examples}\n",
       "\\begin{verbatim}\n",
       "julia> pwd()\n",
       "\"/home/JuliaUser\"\n",
       "\n",
       "julia> cd(\"/home/JuliaUser/Projects/julia\")\n",
       "\n",
       "julia> pwd()\n",
       "\"/home/JuliaUser/Projects/julia\"\n",
       "\\end{verbatim}\n"
      ],
      "text/markdown": [
       "```\n",
       "pwd() -> AbstractString\n",
       "```\n",
       "\n",
       "Get the current working directory.\n",
       "\n",
       "# Examples\n",
       "\n",
       "```julia-repl\n",
       "julia> pwd()\n",
       "\"/home/JuliaUser\"\n",
       "\n",
       "julia> cd(\"/home/JuliaUser/Projects/julia\")\n",
       "\n",
       "julia> pwd()\n",
       "\"/home/JuliaUser/Projects/julia\"\n",
       "```\n"
      ],
      "text/plain": [
       "\u001b[36m  pwd() -> AbstractString\u001b[39m\n",
       "\n",
       "  Get the current working directory.\n",
       "\n",
       "\u001b[1m  Examples\u001b[22m\n",
       "\u001b[1m  ≡≡≡≡≡≡≡≡≡≡\u001b[22m\n",
       "\n",
       "\u001b[36m  julia> pwd()\u001b[39m\n",
       "\u001b[36m  \"/home/JuliaUser\"\u001b[39m\n",
       "\u001b[36m  \u001b[39m\n",
       "\u001b[36m  julia> cd(\"/home/JuliaUser/Projects/julia\")\u001b[39m\n",
       "\u001b[36m  \u001b[39m\n",
       "\u001b[36m  julia> pwd()\u001b[39m\n",
       "\u001b[36m  \"/home/JuliaUser/Projects/julia\"\u001b[39m"
      ]
     },
     "execution_count": 4,
     "metadata": {},
     "output_type": "execute_result"
    }
   ],
   "source": [
    "? pwd"
   ]
  },
  {
   "cell_type": "code",
   "execution_count": 5,
   "metadata": {},
   "outputs": [],
   "source": [
    "3-1;"
   ]
  },
  {
   "cell_type": "code",
   "execution_count": 6,
   "metadata": {},
   "outputs": [
    {
     "data": {
      "text/plain": [
       "\"/Users/antonioayala/Downloads/Curso Julia\""
      ]
     },
     "execution_count": 6,
     "metadata": {},
     "output_type": "execute_result"
    }
   ],
   "source": [
    "pwd()"
   ]
  },
  {
   "cell_type": "code",
   "execution_count": 7,
   "metadata": {},
   "outputs": [
    {
     "name": "stdout",
     "output_type": "stream",
     "text": [
      "HolaMundo.ipynb\n"
     ]
    }
   ],
   "source": [
    "; ls"
   ]
  },
  {
   "cell_type": "code",
   "execution_count": 8,
   "metadata": {},
   "outputs": [
    {
     "data": {
      "text/plain": [
       "3"
      ]
     },
     "execution_count": 8,
     "metadata": {},
     "output_type": "execute_result"
    }
   ],
   "source": [
    "x=3"
   ]
  },
  {
   "cell_type": "code",
   "execution_count": 11,
   "metadata": {},
   "outputs": [
    {
     "data": {
      "text/plain": [
       "3"
      ]
     },
     "execution_count": 11,
     "metadata": {},
     "output_type": "execute_result"
    }
   ],
   "source": [
    "α = 3"
   ]
  },
  {
   "cell_type": "code",
   "execution_count": 12,
   "metadata": {},
   "outputs": [
    {
     "name": "stdout",
     "output_type": "stream",
     "text": [
      "Hola Antonio\n"
     ]
    }
   ],
   "source": [
    "name = \"Antonio\"\n",
    "saludo = \"Hola $name\"\n",
    "println(saludo)"
   ]
  },
  {
   "cell_type": "code",
   "execution_count": 1,
   "metadata": {
    "scrolled": true
   },
   "outputs": [
    {
     "ename": "LoadError",
     "evalue": "LoadError: UndefVarError: @bind not defined\nin expression starting at In[1]:1",
     "output_type": "error",
     "traceback": [
      "LoadError: UndefVarError: @bind not defined\nin expression starting at In[1]:1",
      "",
      "Stacktrace:",
      " [1] top-level scope",
      "   @ :0",
      " [2] eval",
      "   @ ./boot.jl:360 [inlined]",
      " [3] include_string(mapexpr::typeof(REPL.softscope), mod::Module, code::String, filename::String)",
      "   @ Base ./loading.jl:1116"
     ]
    }
   ],
   "source": []
  },
  {
   "cell_type": "code",
   "execution_count": 10,
   "metadata": {},
   "outputs": [
    {
     "name": "stderr",
     "output_type": "stream",
     "text": [
      "\u001b[32m\u001b[1m   Resolving\u001b[22m\u001b[39m package versions...\n",
      "\u001b[32m\u001b[1m  No Changes\u001b[22m\u001b[39m to `~/.julia/environments/v1.6/Project.toml`\n",
      "\u001b[32m\u001b[1m  No Changes\u001b[22m\u001b[39m to `~/.julia/environments/v1.6/Manifest.toml`\n"
     ]
    }
   ],
   "source": [
    "import Pkg; Pkg.add(\"PlutoUI\")\n",
    "using PlutoUI"
   ]
  },
  {
   "cell_type": "code",
   "execution_count": 11,
   "metadata": {},
   "outputs": [
    {
     "data": {
      "text/html": [
       "<script>const getParentCell = el => el.closest(\"pluto-cell\")\n",
       "\n",
       "const getHeaders = () => {\n",
       "\tconst depth = Math.max(1, Math.min(6, 3)) // should be in range 1:6\n",
       "\tconst range = Array.from({length: depth}, (x, i) => i+1) // [1, ..., depth]\n",
       "\t\n",
       "\tconst selector = range.map(i => `pluto-notebook pluto-cell h${i}`).join(\",\")\n",
       "\treturn Array.from(document.querySelectorAll(selector))\n",
       "}\n",
       "\n",
       "const indent = true\n",
       "const aside = true\n",
       "\n",
       "const render = (el) => html`${el.map(h => {\n",
       "\tconst parent_cell = getParentCell(h)\n",
       "\n",
       "\tconst a = html`<a \n",
       "\t\tclass=\"${h.nodeName}\" \n",
       "\t\thref=\"#${parent_cell.id}\"\n",
       "\t>${h.innerText}</a>`\n",
       "\t/* a.onmouseover=()=>{\n",
       "\t\tparent_cell.firstElementChild.classList.add(\n",
       "\t\t\t'highlight-pluto-cell-shoulder'\n",
       "\t\t)\n",
       "\t}\n",
       "\ta.onmouseout=() => {\n",
       "\t\tparent_cell.firstElementChild.classList.remove(\n",
       "\t\t\t'highlight-pluto-cell-shoulder'\n",
       "\t\t)\n",
       "\t} */\n",
       "\ta.onclick=(e) => {\n",
       "\t\te.preventDefault();\n",
       "\t\th.scrollIntoView({\n",
       "\t\t\tbehavior: 'smooth', \n",
       "\t\t\tblock: 'center'\n",
       "\t\t})\n",
       "\t}\n",
       "\n",
       "\treturn html`<div class=\"toc-row\">${a}</div>`\n",
       "})}`\n",
       "\n",
       "const tocNode = html`<nav class=\"plutoui-toc\">\n",
       "\t<header>👀 Visualización🔮</header>\n",
       "\t<section></section>\n",
       "</nav>`\n",
       "tocNode.classList.toggle(\"aside\", aside)\n",
       "tocNode.classList.toggle(\"indent\", aside)\n",
       "\n",
       "const updateCallback = () => {\n",
       "\ttocNode.querySelector(\"section\").replaceWith(\n",
       "\t\thtml`<section>${render(getHeaders())}</section>`\n",
       "\t)\n",
       "}\n",
       "updateCallback()\n",
       "\n",
       "\n",
       "const notebook = document.querySelector(\"pluto-notebook\")\n",
       "\n",
       "\n",
       "// We have a mutationobserver for each cell:\n",
       "const observers = {\n",
       "\tcurrent: [],\n",
       "}\n",
       "\n",
       "const createCellObservers = () => {\n",
       "\tobservers.current.forEach((o) => o.disconnect())\n",
       "\tobservers.current = Array.from(notebook.querySelectorAll(\"pluto-cell\")).map(el => {\n",
       "\t\tconst o = new MutationObserver(updateCallback)\n",
       "\t\to.observe(el, {attributeFilter: [\"class\"]})\n",
       "\t\treturn o\n",
       "\t})\n",
       "}\n",
       "createCellObservers()\n",
       "\n",
       "// And one for the notebook's child list, which updates our cell observers:\n",
       "const notebookObserver = new MutationObserver(() => {\n",
       "\tupdateCallback()\n",
       "\tcreateCellObservers()\n",
       "})\n",
       "notebookObserver.observe(notebook, {childList: true})\n",
       "\n",
       "// And finally, an observer for the document.body classList, to make sure that the toc also works when if is loaded during notebook initialization\n",
       "const bodyClassObserver = new MutationObserver(updateCallback)\n",
       "bodyClassObserver.observe(document.body, {attributeFilter: [\"class\"]})\n",
       "\n",
       "invalidation.then(() => {\n",
       "\tnotebookObserver.disconnect()\n",
       "\tbodyClassObserver.disconnect()\n",
       "\tobservers.current.forEach((o) => o.disconnect())\n",
       "})\n",
       "\n",
       "return tocNode\n",
       "</script><style>@media screen and (min-width: 1081px) {\n",
       "\t.plutoui-toc.aside {\n",
       "\t\tposition:fixed; \n",
       "\t\tright: 1rem;\n",
       "\t\ttop: 5rem; \n",
       "\t\twidth:25%; \n",
       "\t\tpadding: 10px;\n",
       "\t\tborder: 3px solid rgba(0, 0, 0, 0.15);\n",
       "\t\tborder-radius: 10px;\n",
       "\t\tbox-shadow: 0 0 11px 0px #00000010;\n",
       "\t\t/* That is, viewport minus top minus Live Docs */\n",
       "\t\tmax-height: calc(100vh - 5rem - 56px);\n",
       "\t\toverflow: auto;\n",
       "\t\tz-index: 50;\n",
       "\t\tbackground: white;\n",
       "\t}\n",
       "}\n",
       "\n",
       ".plutoui-toc header {\n",
       "\tdisplay: block;\n",
       "\tfont-size: 1.5em;\n",
       "\tmargin-top: 0.67em;\n",
       "\tmargin-bottom: 0.67em;\n",
       "\tmargin-left: 0;\n",
       "\tmargin-right: 0;\n",
       "\tfont-weight: bold;\n",
       "\tborder-bottom: 2px solid rgba(0, 0, 0, 0.15);\n",
       "}\n",
       "\n",
       ".plutoui-toc section .toc-row {\n",
       "\twhite-space: nowrap;\n",
       "\toverflow: hidden;\n",
       "\ttext-overflow: ellipsis;\n",
       "\tpadding-bottom: 2px;\n",
       "}\n",
       "\n",
       ".highlight-pluto-cell-shoulder {\n",
       "\tbackground: rgba(0, 0, 0, 0.05);\n",
       "\tbackground-clip: padding-box;\n",
       "}\n",
       "\n",
       ".plutoui-toc section a {\n",
       "\ttext-decoration: none;\n",
       "\tfont-weight: normal;\n",
       "\tcolor: gray;\n",
       "}\n",
       ".plutoui-toc section a:hover {\n",
       "\tcolor: black;\n",
       "}\n",
       "\n",
       ".plutoui-toc.indent section a.H1 {\n",
       "\tfont-weight: 700;\n",
       "\tline-height: 1em;\n",
       "}\n",
       "\n",
       ".plutoui-toc.indent section a.H1 {\n",
       "\tpadding-left: 0px;\n",
       "}\n",
       ".plutoui-toc.indent section a.H2 {\n",
       "\tpadding-left: 10px;\n",
       "}\n",
       ".plutoui-toc.indent section a.H3 {\n",
       "\tpadding-left: 20px;\n",
       "}\n",
       ".plutoui-toc.indent section a.H4 {\n",
       "\tpadding-left: 30px;\n",
       "}\n",
       ".plutoui-toc.indent section a.H5 {\n",
       "\tpadding-left: 40px;\n",
       "}\n",
       ".plutoui-toc.indent section a.H6 {\n",
       "\tpadding-left: 50px;\n",
       "}\n",
       "</style>"
      ],
      "text/plain": [
       "TableOfContents(\"👀 Visualización🔮\", true, 3, true)"
      ]
     },
     "execution_count": 11,
     "metadata": {},
     "output_type": "execute_result"
    }
   ],
   "source": [
    "PlutoUI.TableOfContents(aside=true, title=\"👀 Visualización🔮\")"
   ]
  },
  {
   "cell_type": "code",
   "execution_count": 8,
   "metadata": {
    "scrolled": true
   },
   "outputs": [
    {
     "ename": "LoadError",
     "evalue": "LoadError: UndefVarError: @bind not defined\nin expression starting at In[8]:1",
     "output_type": "error",
     "traceback": [
      "LoadError: UndefVarError: @bind not defined\nin expression starting at In[8]:1",
      "",
      "Stacktrace:",
      " [1] top-level scope",
      "   @ :0",
      " [2] eval",
      "   @ ./boot.jl:360 [inlined]",
      " [3] include_string(mapexpr::typeof(REPL.softscope), mod::Module, code::String, filename::String)",
      "   @ Base ./loading.jl:1116"
     ]
    }
   ],
   "source": []
  },
  {
   "cell_type": "code",
   "execution_count": 7,
   "metadata": {},
   "outputs": [
    {
     "data": {
      "text/latex": [
       "\\begin{tabular}\n",
       "{l | r | l}\n",
       "name & size & summary \\\\\n",
       "\\hline\n",
       "Button & 188 bytes & DataType \\\\\n",
       "CheckBox & 188 bytes & DataType \\\\\n",
       "Clock & 228 bytes & DataType \\\\\n",
       "ClockNotebook & 148.753 KiB & Module \\\\\n",
       "ColorStringPicker & 188 bytes & DataType \\\\\n",
       "DateField & 204 bytes & DataType \\\\\n",
       "DownloadButton & 196 bytes & DataType \\\\\n",
       "Dump & 196 bytes & DataType \\\\\n",
       "FilePicker & 188 bytes & DataType \\\\\n",
       "LocalResource & 0 bytes & typeof(LocalResource) \\\\\n",
       "MultiCheckBox & 228 bytes & DataType \\\\\n",
       "MultiCheckBoxNotebook & 141.688 KiB & Module \\\\\n",
       "MultiSelect & 212 bytes & DataType \\\\\n",
       "NumberField & 236 bytes & DataType \\\\\n",
       "PasswordField & 188 bytes & DataType \\\\\n",
       "PlutoUI & 331.038 KiB & Module \\\\\n",
       "Print & 0 bytes & typeof(Print) \\\\\n",
       "Radio & 212 bytes & DataType \\\\\n",
       "RangeSlider & 252 bytes & DataType \\\\\n",
       "RemoteResource & 300 bytes & DataType \\\\\n",
       "Resource & 300 bytes & DataType \\\\\n",
       "Scrubbable & 276 bytes & DataType \\\\\n",
       "ScrubbableNotebook & 156.938 KiB & Module \\\\\n",
       "Select & 212 bytes & DataType \\\\\n",
       "Show & 80 bytes & UnionAll \\\\\n",
       "Slider & 244 bytes & DataType \\\\\n",
       "TableOfContents & 212 bytes & DataType \\\\\n",
       "TableOfContentsNotebook & 147.271 KiB & Module \\\\\n",
       "TextField & 212 bytes & DataType \\\\\n",
       "TimeField & 204 bytes & DataType \\\\\n",
       "WithIOContext & 40 bytes & UnionAll \\\\\n",
       "as\\_html & 0 bytes & PlutoUI.var\"\\#54\\#55\"\\{MIME\\{Symbol(\"text/html\")\\}\\} \\\\\n",
       "as\\_mime & 0 bytes & typeof(as\\_mime) \\\\\n",
       "as\\_png & 0 bytes & PlutoUI.var\"\\#54\\#55\"\\{MIME\\{Symbol(\"image/png\")\\}\\} \\\\\n",
       "as\\_svg & 0 bytes & PlutoUI.var\"\\#54\\#55\"\\{MIME\\{Symbol(\"image/svg+xml\")\\}\\} \\\\\n",
       "as\\_text & 0 bytes & PlutoUI.var\"\\#54\\#55\"\\{MIME\\{Symbol(\"text/plain\")\\}\\} \\\\\n",
       "with\\_terminal & 0 bytes & typeof(with\\_terminal) \\\\\n",
       "\\end{tabular}\n"
      ],
      "text/markdown": [
       "| name                    |        size | summary                                            |\n",
       "|:----------------------- | -----------:|:-------------------------------------------------- |\n",
       "| Button                  |   188 bytes | DataType                                           |\n",
       "| CheckBox                |   188 bytes | DataType                                           |\n",
       "| Clock                   |   228 bytes | DataType                                           |\n",
       "| ClockNotebook           | 148.753 KiB | Module                                             |\n",
       "| ColorStringPicker       |   188 bytes | DataType                                           |\n",
       "| DateField               |   204 bytes | DataType                                           |\n",
       "| DownloadButton          |   196 bytes | DataType                                           |\n",
       "| Dump                    |   196 bytes | DataType                                           |\n",
       "| FilePicker              |   188 bytes | DataType                                           |\n",
       "| LocalResource           |     0 bytes | typeof(LocalResource)                              |\n",
       "| MultiCheckBox           |   228 bytes | DataType                                           |\n",
       "| MultiCheckBoxNotebook   | 141.688 KiB | Module                                             |\n",
       "| MultiSelect             |   212 bytes | DataType                                           |\n",
       "| NumberField             |   236 bytes | DataType                                           |\n",
       "| PasswordField           |   188 bytes | DataType                                           |\n",
       "| PlutoUI                 | 331.038 KiB | Module                                             |\n",
       "| Print                   |     0 bytes | typeof(Print)                                      |\n",
       "| Radio                   |   212 bytes | DataType                                           |\n",
       "| RangeSlider             |   252 bytes | DataType                                           |\n",
       "| RemoteResource          |   300 bytes | DataType                                           |\n",
       "| Resource                |   300 bytes | DataType                                           |\n",
       "| Scrubbable              |   276 bytes | DataType                                           |\n",
       "| ScrubbableNotebook      | 156.938 KiB | Module                                             |\n",
       "| Select                  |   212 bytes | DataType                                           |\n",
       "| Show                    |    80 bytes | UnionAll                                           |\n",
       "| Slider                  |   244 bytes | DataType                                           |\n",
       "| TableOfContents         |   212 bytes | DataType                                           |\n",
       "| TableOfContentsNotebook | 147.271 KiB | Module                                             |\n",
       "| TextField               |   212 bytes | DataType                                           |\n",
       "| TimeField               |   204 bytes | DataType                                           |\n",
       "| WithIOContext           |    40 bytes | UnionAll                                           |\n",
       "| as_html                 |     0 bytes | PlutoUI.var\"#54#55\"{MIME{Symbol(\"text/html\")}}     |\n",
       "| as_mime                 |     0 bytes | typeof(as_mime)                                    |\n",
       "| as_png                  |     0 bytes | PlutoUI.var\"#54#55\"{MIME{Symbol(\"image/png\")}}     |\n",
       "| as_svg                  |     0 bytes | PlutoUI.var\"#54#55\"{MIME{Symbol(\"image/svg+xml\")}} |\n",
       "| as_text                 |     0 bytes | PlutoUI.var\"#54#55\"{MIME{Symbol(\"text/plain\")}}    |\n",
       "| with_terminal           |     0 bytes | typeof(with_terminal)                              |\n"
      ],
      "text/plain": [
       "  name                           size summary                                           \n",
       "  ––––––––––––––––––––––– ––––––––––– ––––––––––––––––––––––––––––––––––––––––––––––––––\n",
       "  Button                    188 bytes DataType                                          \n",
       "  CheckBox                  188 bytes DataType                                          \n",
       "  Clock                     228 bytes DataType                                          \n",
       "  ClockNotebook           148.753 KiB Module                                            \n",
       "  ColorStringPicker         188 bytes DataType                                          \n",
       "  DateField                 204 bytes DataType                                          \n",
       "  DownloadButton            196 bytes DataType                                          \n",
       "  Dump                      196 bytes DataType                                          \n",
       "  FilePicker                188 bytes DataType                                          \n",
       "  LocalResource               0 bytes typeof(LocalResource)                             \n",
       "  MultiCheckBox             228 bytes DataType                                          \n",
       "  MultiCheckBoxNotebook   141.688 KiB Module                                            \n",
       "  MultiSelect               212 bytes DataType                                          \n",
       "  NumberField               236 bytes DataType                                          \n",
       "  PasswordField             188 bytes DataType                                          \n",
       "  PlutoUI                 331.038 KiB Module                                            \n",
       "  Print                       0 bytes typeof(Print)                                     \n",
       "  Radio                     212 bytes DataType                                          \n",
       "  RangeSlider               252 bytes DataType                                          \n",
       "  RemoteResource            300 bytes DataType                                          \n",
       "  Resource                  300 bytes DataType                                          \n",
       "  Scrubbable                276 bytes DataType                                          \n",
       "  ScrubbableNotebook      156.938 KiB Module                                            \n",
       "  Select                    212 bytes DataType                                          \n",
       "  Show                       80 bytes UnionAll                                          \n",
       "  Slider                    244 bytes DataType                                          \n",
       "  TableOfContents           212 bytes DataType                                          \n",
       "  TableOfContentsNotebook 147.271 KiB Module                                            \n",
       "  TextField                 212 bytes DataType                                          \n",
       "  TimeField                 204 bytes DataType                                          \n",
       "  WithIOContext              40 bytes UnionAll                                          \n",
       "  as_html                     0 bytes PlutoUI.var\"#54#55\"{MIME{Symbol(\"text/html\")}}    \n",
       "  as_mime                     0 bytes typeof(as_mime)                                   \n",
       "  as_png                      0 bytes PlutoUI.var\"#54#55\"{MIME{Symbol(\"image/png\")}}    \n",
       "  as_svg                      0 bytes PlutoUI.var\"#54#55\"{MIME{Symbol(\"image/svg+xml\")}}\n",
       "  as_text                     0 bytes PlutoUI.var\"#54#55\"{MIME{Symbol(\"text/plain\")}}   \n",
       "  with_terminal               0 bytes typeof(with_terminal)                             "
      ]
     },
     "execution_count": 7,
     "metadata": {},
     "output_type": "execute_result"
    }
   ],
   "source": [
    "varinfo(PlutoUI)"
   ]
  },
  {
   "cell_type": "code",
   "execution_count": 13,
   "metadata": {},
   "outputs": [
    {
     "ename": "LoadError",
     "evalue": "LoadError: UndefVarError: @bind not defined\nin expression starting at In[13]:1",
     "output_type": "error",
     "traceback": [
      "LoadError: UndefVarError: @bind not defined\nin expression starting at In[13]:1",
      "",
      "Stacktrace:",
      " [1] eval",
      "   @ ./boot.jl:360 [inlined]",
      " [2] include_string(mapexpr::typeof(REPL.softscope), mod::Module, code::String, filename::String)",
      "   @ Base ./loading.jl:1116"
     ]
    }
   ],
   "source": [
    "PlutoUI.@bind slider1 Slider(0:5, show_value=true, default=0)"
   ]
  },
  {
   "cell_type": "code",
   "execution_count": null,
   "metadata": {},
   "outputs": [],
   "source": []
  }
 ],
 "metadata": {
  "kernelspec": {
   "display_name": "Julia 1.6.2",
   "language": "julia",
   "name": "julia-1.6"
  },
  "language_info": {
   "file_extension": ".jl",
   "mimetype": "application/julia",
   "name": "julia",
   "version": "1.6.2"
  }
 },
 "nbformat": 4,
 "nbformat_minor": 4
}
