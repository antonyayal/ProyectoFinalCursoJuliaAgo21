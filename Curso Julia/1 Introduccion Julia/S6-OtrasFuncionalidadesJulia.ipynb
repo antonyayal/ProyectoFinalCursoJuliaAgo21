{
 "cells": [
  {
   "cell_type": "markdown",
   "metadata": {},
   "source": [
    "# Otras funcionalidades de Julia"
   ]
  },
  {
   "cell_type": "markdown",
   "metadata": {},
   "source": [
    "### Funciones Mutables vs No Mutables "
   ]
  },
  {
   "cell_type": "markdown",
   "metadata": {},
   "source": [
    "Por convención, funciones seguidas de `!` alteran sus contenidos y funciones que no lo tienen no pueden ser modificadas."
   ]
  },
  {
   "cell_type": "code",
   "execution_count": null,
   "metadata": {},
   "outputs": [],
   "source": [
    "v = [3, 5, 2]"
   ]
  },
  {
   "cell_type": "code",
   "execution_count": null,
   "metadata": {},
   "outputs": [],
   "source": [
    "sort(v)"
   ]
  },
  {
   "cell_type": "code",
   "execution_count": null,
   "metadata": {},
   "outputs": [],
   "source": [
    "v"
   ]
  },
  {
   "cell_type": "markdown",
   "metadata": {},
   "source": [
    "`sort(v)` devuelve un arrego ordenado que contiene los mismos elementos de `v` sin alterar a `v`.\n"
   ]
  },
  {
   "cell_type": "code",
   "execution_count": null,
   "metadata": {},
   "outputs": [],
   "source": [
    "sort!(v)"
   ]
  },
  {
   "cell_type": "code",
   "execution_count": null,
   "metadata": {},
   "outputs": [],
   "source": [
    "v"
   ]
  },
  {
   "cell_type": "markdown",
   "metadata": {},
   "source": [
    "`sort!(v)` altera el argumento `v` que se le pasa a la función."
   ]
  },
  {
   "cell_type": "markdown",
   "metadata": {},
   "source": [
    "## Funciones de orden superior "
   ]
  },
  {
   "cell_type": "markdown",
   "metadata": {},
   "source": [
    "La función `map()` es una función en Julia que toma como uno de sus argumentos de entrada una _función_. `map()` aplica la función a cada elemento de la estructura de datos que se le pasa."
   ]
  },
  {
   "cell_type": "markdown",
   "metadata": {},
   "source": [
    "Por ejemplo, al ejecutar:\n",
    "```julia\n",
    "map(f,[1, 2, 3])\n",
    "```\n",
    "obtendremos un arreglo de salida donde la función `f()` se aplica a cada uno de los elementos del array `[1, 2, 3]`, es decir,\n",
    "```julia\n",
    "[f(1), f(2), f(3)]\n",
    "```"
   ]
  },
  {
   "cell_type": "markdown",
   "metadata": {},
   "source": [
    "Se han elevado al cuadrado todos los elementos de `[1, 2, 3]` en lugar de elevar al cuadrado el vector mismo. Para hacer esto, se puede pasar a la función `map()` una función anónima en lugar del nombre de la función: "
   ]
  },
  {
   "cell_type": "code",
   "execution_count": null,
   "metadata": {},
   "outputs": [],
   "source": [
    "g = x -> x^2\n",
    "g(5)"
   ]
  },
  {
   "cell_type": "code",
   "execution_count": null,
   "metadata": {},
   "outputs": [],
   "source": [
    "map(g, [1,2,3])"
   ]
  },
  {
   "cell_type": "code",
   "execution_count": null,
   "metadata": {},
   "outputs": [],
   "source": [
    "f = x -> x^3"
   ]
  },
  {
   "cell_type": "code",
   "execution_count": null,
   "metadata": {},
   "outputs": [],
   "source": [
    "map(x -> x^3, [1, 2, 3])"
   ]
  },
  {
   "cell_type": "markdown",
   "metadata": {},
   "source": [
    "### Broadcast "
   ]
  },
  {
   "cell_type": "markdown",
   "metadata": {},
   "source": [
    "`broadcast` es otra función de orden superior como `map`. `broadcast` es una generalización de `map`, por lo que puede hacer cualquier cosa que hace `map` e incluso algo más. La sintáxis de `broadcast` es la misma que la de `map`."
   ]
  },
  {
   "cell_type": "code",
   "execution_count": null,
   "metadata": {},
   "outputs": [],
   "source": [
    "broadcast(f, [1, 2, 3])"
   ]
  },
  {
   "cell_type": "markdown",
   "metadata": {},
   "source": [
    "Una vez más se ha aplicado `f` a todos los elementos de `[1, 2, 3]`, esta vez difundiendo (_broadcasting_) la función `f`.\n",
    "Un poco de \"syntactic sugar\" para llamar a `broadcast` es colocar un `.` entre el nombre de la función que se desee hacer `brodcast` y sus argumentos de entrada, por ejemplo:\n",
    "```julia\n",
    "broadcast(f,[1, 2, 3])\n",
    "```\n",
    "es lo mismo que escribir,\n",
    "```julia\n",
    "f.([1, 2, 3])\n",
    "```"
   ]
  },
  {
   "cell_type": "code",
   "execution_count": null,
   "metadata": {},
   "outputs": [],
   "source": [
    "f.([1, 2, 3])"
   ]
  },
  {
   "cell_type": "code",
   "execution_count": null,
   "metadata": {},
   "outputs": [],
   "source": [
    "@time broadcast(f,[1, 2, 3])"
   ]
  },
  {
   "cell_type": "code",
   "execution_count": null,
   "metadata": {},
   "outputs": [],
   "source": [
    "@time f.([1, 2, 3])"
   ]
  },
  {
   "cell_type": "markdown",
   "metadata": {},
   "source": [
    "Notemos la diferencia entre hacer la llamada a la función:\n",
    "```julia \n",
    "f([1, 2, 3])\n",
    "```\n",
    "y hacer el _broadcast_ de la función.\n",
    "\n",
    "Es posible elevar al cuadrado cada elemento del vector, pero no es posible elevar al cuadrado al vector."
   ]
  },
  {
   "cell_type": "code",
   "execution_count": null,
   "metadata": {},
   "outputs": [],
   "source": [
    "f([1, 2, 3])"
   ]
  },
  {
   "cell_type": "markdown",
   "metadata": {},
   "source": [
    "Entiéndase la operación de **Broadcast** como una \"expansión la dimensión unaria\" de los objetos que se pasan a la función."
   ]
  },
  {
   "cell_type": "markdown",
   "metadata": {},
   "source": [
    "Para hacerlo más claro, apliquemos `f()` a una matriz `A` y veamos la diferencia al hacer un _broadcast_ a `f()` sobre `A`"
   ]
  },
  {
   "cell_type": "code",
   "execution_count": null,
   "metadata": {},
   "outputs": [],
   "source": [
    "A = [i + 3*j for j in 0:2, i in 1:3]"
   ]
  },
  {
   "cell_type": "code",
   "execution_count": null,
   "metadata": {},
   "outputs": [],
   "source": [
    "f(A)  # multiplica A por si misma 3 veces"
   ]
  },
  {
   "cell_type": "code",
   "execution_count": null,
   "metadata": {},
   "outputs": [],
   "source": [
    "f.(A)"
   ]
  },
  {
   "cell_type": "markdown",
   "metadata": {},
   "source": [
    "Con el _broadcast_ cada elemento de `A` se elevan al cuadrado."
   ]
  },
  {
   "cell_type": "markdown",
   "metadata": {},
   "source": [
    "La notación con `.` para hacer el _broadcast_ permite escribir composiciones complejas de expresiones en una manera que parece más natural y cercana a la notación matemática convencional."
   ]
  },
  {
   "cell_type": "code",
   "execution_count": null,
   "metadata": {},
   "outputs": [],
   "source": [
    "A"
   ]
  },
  {
   "cell_type": "markdown",
   "metadata": {},
   "source": [
    "Podemos escribir"
   ]
  },
  {
   "cell_type": "code",
   "execution_count": null,
   "metadata": {},
   "outputs": [],
   "source": [
    "A .+ 2 .* f.(A) ./ A   "
   ]
  },
  {
   "cell_type": "markdown",
   "metadata": {},
   "source": [
    "que será mucho más natural que escribir:"
   ]
  },
  {
   "cell_type": "code",
   "execution_count": null,
   "metadata": {},
   "outputs": [],
   "source": [
    "broadcast(x -> x + 2 * f(x) / x, A)"
   ]
  },
  {
   "cell_type": "markdown",
   "metadata": {},
   "source": [
    "**Ejemplo:**\n",
    "\n",
    "Evaluación de varias funciones sobre un arreglo de números aleatorios"
   ]
  },
  {
   "cell_type": "code",
   "execution_count": 101,
   "metadata": {},
   "outputs": [
    {
     "data": {
      "text/plain": [
       "2-element Array{Function,1}:\n",
       " sin (generic function with 13 methods)\n",
       " cos (generic function with 13 methods)"
      ]
     },
     "execution_count": 101,
     "metadata": {},
     "output_type": "execute_result"
    }
   ],
   "source": [
    "funs = [sin,cos]"
   ]
  },
  {
   "cell_type": "code",
   "execution_count": 102,
   "metadata": {},
   "outputs": [
    {
     "data": {
      "text/plain": [
       "5-element Array{Float64,1}:\n",
       " 0.9223278736331983\n",
       " 0.7525848792803029\n",
       " 0.9294946140728197\n",
       " 0.3471880980420521\n",
       " 0.7440681193198235"
      ]
     },
     "execution_count": 102,
     "metadata": {},
     "output_type": "execute_result"
    }
   ],
   "source": [
    "vals = rand(5)"
   ]
  },
  {
   "cell_type": "code",
   "execution_count": 103,
   "metadata": {},
   "outputs": [
    {
     "data": {
      "text/plain": [
       "5-element Array{Array{Float64,1},1}:\n",
       " [0.7970097358518801, 0.6039664568147112]\n",
       " [0.6835278080961265, 0.7299244725033576]\n",
       " [0.8013177016423502, 0.5982390333592597]\n",
       " [0.34025503135578317, 0.9403331928827542]\n",
       " [0.6772865019645169, 0.7357193719460352]"
      ]
     },
     "execution_count": 103,
     "metadata": {},
     "output_type": "execute_result"
    }
   ],
   "source": [
    "[[f(v) for f in funs] for v in vals]"
   ]
  },
  {
   "cell_type": "code",
   "execution_count": 106,
   "metadata": {},
   "outputs": [
    {
     "data": {
      "text/plain": [
       "2-element Array{Array{Float64,1},1}:\n",
       " [0.7970097358518801, 0.6835278080961265, 0.8013177016423502, 0.34025503135578317, 0.6772865019645169]\n",
       " [0.6039664568147112, 0.7299244725033576, 0.5982390333592597, 0.9403331928827542, 0.7357193719460352]"
      ]
     },
     "execution_count": 106,
     "metadata": {},
     "output_type": "execute_result"
    }
   ],
   "source": [
    "map.(funs, Ref(vals))"
   ]
  },
  {
   "cell_type": "code",
   "execution_count": 107,
   "metadata": {},
   "outputs": [
    {
     "data": {
      "text/plain": [
       "2×5 Array{Float64,2}:\n",
       " 0.79701   0.683528  0.801318  0.340255  0.677287\n",
       " 0.603966  0.729924  0.598239  0.940333  0.735719"
      ]
     },
     "execution_count": 107,
     "metadata": {},
     "output_type": "execute_result"
    }
   ],
   "source": [
    "opera(f, x) = f(x)\n",
    "opera.(funs, permutedims(vals))"
   ]
  },
  {
   "cell_type": "markdown",
   "metadata": {},
   "source": [
    "## Interoperabilidad"
   ]
  },
  {
   "cell_type": "markdown",
   "metadata": {},
   "source": [
    "### Interoperabilidad con Python: `PyCall`"
   ]
  },
  {
   "cell_type": "markdown",
   "metadata": {},
   "source": [
    "Tomando en cuenta el ecosistema de paquetes de Python, la gama de paquetes disponibles en Julia puede parecer un tanto limitada. Sin embargo, esto se compensa con la facilidad de llamar a paquetes escritos en otros idiomas desde Julia."
   ]
  },
  {
   "cell_type": "code",
   "execution_count": null,
   "metadata": {},
   "outputs": [],
   "source": [
    "using Pkg\n",
    "Pkg.add(\"PyCall\")\n",
    "\n",
    "using PyCall"
   ]
  },
  {
   "cell_type": "markdown",
   "metadata": {},
   "source": [
    "`PyCall` tiene una interfase de alto nivel diseñada para el transporte de código entre Julia y Python y es transparente desde el punto de vista del usuario. Por ejemplo, para importar el mótudlo `math` de Python utilizamos el método `pyimport()`:"
   ]
  },
  {
   "cell_type": "code",
   "execution_count": 108,
   "metadata": {},
   "outputs": [
    {
     "data": {
      "text/plain": [
       "PyObject <module 'math' from '/home/oscar/anaconda3/lib/python3.6/lib-dynload/math.cpython-36m-x86_64-linux-gnu.so'>"
      ]
     },
     "execution_count": 108,
     "metadata": {},
     "output_type": "execute_result"
    }
   ],
   "source": [
    "pymath = pyimport(\"math\")"
   ]
  },
  {
   "cell_type": "code",
   "execution_count": 109,
   "metadata": {},
   "outputs": [
    {
     "data": {
      "text/plain": [
       "0.8414709848078965"
      ]
     },
     "execution_count": 109,
     "metadata": {},
     "output_type": "execute_result"
    }
   ],
   "source": [
    "pymath.sin(1)"
   ]
  },
  {
   "cell_type": "code",
   "execution_count": 110,
   "metadata": {},
   "outputs": [
    {
     "data": {
      "text/plain": [
       "0.0"
      ]
     },
     "execution_count": 110,
     "metadata": {},
     "output_type": "execute_result"
    }
   ],
   "source": [
    "pymath.sin(0.3 * pymath.pi) - sin(0.3 * pymath.pi)"
   ]
  },
  {
   "cell_type": "code",
   "execution_count": 111,
   "metadata": {},
   "outputs": [
    {
     "data": {
      "text/plain": [
       "PyObject <module 'numpy.random' from '/home/oscar/anaconda3/lib/python3.6/site-packages/numpy/random/__init__.py'>"
      ]
     },
     "execution_count": 111,
     "metadata": {},
     "output_type": "execute_result"
    }
   ],
   "source": [
    "nprandom = pyimport(\"numpy.random\")"
   ]
  },
  {
   "cell_type": "code",
   "execution_count": 112,
   "metadata": {},
   "outputs": [
    {
     "data": {
      "text/plain": [
       "3×4 Array{Float64,2}:\n",
       " 0.39595   0.804066  0.585287  0.612368\n",
       " 0.33574   0.132703  0.152141  0.21491\n",
       " 0.284904  0.671616  0.654112  0.00574296"
      ]
     },
     "execution_count": 112,
     "metadata": {},
     "output_type": "execute_result"
    }
   ],
   "source": [
    "nprandom.rand(3,4)"
   ]
  },
  {
   "cell_type": "markdown",
   "metadata": {},
   "source": [
    "Al hacer una llamada a `arrays` de  `numpy` estos son convertidos automáticamente a arreglos de Julia."
   ]
  },
  {
   "cell_type": "code",
   "execution_count": 113,
   "metadata": {},
   "outputs": [
    {
     "data": {
      "text/plain": [
       "Array{Float64,2}"
      ]
     },
     "execution_count": 113,
     "metadata": {},
     "output_type": "execute_result"
    }
   ],
   "source": [
    "jarray = nprandom.rand(3,4)\n",
    "typeof(jarray)"
   ]
  },
  {
   "cell_type": "markdown",
   "metadata": {},
   "source": [
    "Definamos una función:"
   ]
  },
  {
   "cell_type": "code",
   "execution_count": 114,
   "metadata": {},
   "outputs": [
    {
     "data": {
      "text/plain": [
       "#47 (generic function with 1 method)"
      ]
     },
     "execution_count": 114,
     "metadata": {},
     "output_type": "execute_result"
    }
   ],
   "source": [
    "objective = x -> cos(x) - x"
   ]
  },
  {
   "cell_type": "code",
   "execution_count": 115,
   "metadata": {},
   "outputs": [
    {
     "data": {
      "text/plain": [
       "-3.989992496600445"
      ]
     },
     "execution_count": 115,
     "metadata": {},
     "output_type": "execute_result"
    }
   ],
   "source": [
    "objective(3)"
   ]
  },
  {
   "cell_type": "markdown",
   "metadata": {},
   "source": [
    "Podemos pasar esta función de Julia a un módulo de Python:"
   ]
  },
  {
   "cell_type": "code",
   "execution_count": 116,
   "metadata": {},
   "outputs": [
    {
     "data": {
      "text/plain": [
       "0.7390851332151607"
      ]
     },
     "execution_count": 116,
     "metadata": {},
     "output_type": "execute_result"
    }
   ],
   "source": [
    "so = pyimport(\"scipy.optimize\")\n",
    "so.newton(objective, 1)"
   ]
  },
  {
   "cell_type": "markdown",
   "metadata": {},
   "source": [
    "Adicionalmente, podemos consultar la ayuda de la función `newton()` en Python:"
   ]
  },
  {
   "cell_type": "code",
   "execution_count": 117,
   "metadata": {},
   "outputs": [
    {
     "data": {
      "text/plain": [
       "\n",
       "    Find a zero using the Newton-Raphson or secant method.\n",
       "\n",
       "    Find a zero of the function `func` given a nearby starting point `x0`.\n",
       "    The Newton-Raphson method is used if the derivative `fprime` of `func`\n",
       "    is provided, otherwise the secant method is used.  If the second order\n",
       "    derivative `fprime2` of `func` is provided, then Halley's method is used.\n",
       "\n",
       "    Parameters\n",
       "    ----------\n",
       "    func : function\n",
       "        The function whose zero is wanted. It must be a function of a\n",
       "        single variable of the form f(x,a,b,c...), where a,b,c... are extra\n",
       "        arguments that can be passed in the `args` parameter.\n",
       "    x0 : float\n",
       "        An initial estimate of the zero that should be somewhere near the\n",
       "        actual zero.\n",
       "    fprime : function, optional\n",
       "        The derivative of the function when available and convenient. If it\n",
       "        is None (default), then the secant method is used.\n",
       "    args : tuple, optional\n",
       "        Extra arguments to be used in the function call.\n",
       "    tol : float, optional\n",
       "        The allowable error of the zero value.\n",
       "    maxiter : int, optional\n",
       "        Maximum number of iterations.\n",
       "    fprime2 : function, optional\n",
       "        The second order derivative of the function when available and\n",
       "        convenient. If it is None (default), then the normal Newton-Raphson\n",
       "        or the secant method is used. If it is not None, then Halley's method\n",
       "        is used.\n",
       "\n",
       "    Returns\n",
       "    -------\n",
       "    zero : float\n",
       "        Estimated location where function is zero.\n",
       "\n",
       "    See Also\n",
       "    --------\n",
       "    brentq, brenth, ridder, bisect\n",
       "    fsolve : find zeroes in n dimensions.\n",
       "\n",
       "    Notes\n",
       "    -----\n",
       "    The convergence rate of the Newton-Raphson method is quadratic,\n",
       "    the Halley method is cubic, and the secant method is\n",
       "    sub-quadratic.  This means that if the function is well behaved\n",
       "    the actual error in the estimated zero is approximately the square\n",
       "    (cube for Halley) of the requested tolerance up to roundoff\n",
       "    error. However, the stopping criterion used here is the step size\n",
       "    and there is no guarantee that a zero has been found. Consequently\n",
       "    the result should be verified. Safer algorithms are brentq,\n",
       "    brenth, ridder, and bisect, but they all require that the root\n",
       "    first be bracketed in an interval where the function changes\n",
       "    sign. The brentq algorithm is recommended for general use in one\n",
       "    dimensional problems when such an interval has been found.\n",
       "\n",
       "    Examples\n",
       "    --------\n",
       "\n",
       "    >>> def f(x):\n",
       "    ...     return (x**3 - 1)  # only one real root at x = 1\n",
       "    \n",
       "    >>> from scipy import optimize\n",
       "\n",
       "    ``fprime`` not provided, use secant method\n",
       "    \n",
       "    >>> root = optimize.newton(f, 1.5)\n",
       "    >>> root\n",
       "    1.0000000000000016\n",
       "    >>> root = optimize.newton(f, 1.5, fprime2=lambda x: 6 * x)\n",
       "    >>> root\n",
       "    1.0000000000000016\n",
       "\n",
       "    Only ``fprime`` provided, use Newton Raphson method\n",
       "    \n",
       "    >>> root = optimize.newton(f, 1.5, fprime=lambda x: 3 * x**2)\n",
       "    >>> root\n",
       "    1.0\n",
       "    \n",
       "    Both ``fprime2`` and ``fprime`` provided, use Halley's method\n",
       "\n",
       "    >>> root = optimize.newton(f, 1.5, fprime=lambda x: 3 * x**2,\n",
       "    ...                        fprime2=lambda x: 6 * x)\n",
       "    >>> root\n",
       "    1.0\n",
       "\n",
       "    "
      ]
     },
     "execution_count": 117,
     "metadata": {},
     "output_type": "execute_result"
    }
   ],
   "source": [
    "?so.newton"
   ]
  },
  {
   "cell_type": "code",
   "execution_count": null,
   "metadata": {},
   "outputs": [],
   "source": []
  },
  {
   "cell_type": "code",
   "execution_count": 91,
   "metadata": {},
   "outputs": [
    {
     "data": {
      "text/plain": [
       "PyObject <module 'scipy.integrate' from '/home/oscar/anaconda3/lib/python3.6/site-packages/scipy/integrate/__init__.py'>"
      ]
     },
     "execution_count": 91,
     "metadata": {},
     "output_type": "execute_result"
    }
   ],
   "source": [
    "integrate = pyimport(\"scipy.integrate\")"
   ]
  },
  {
   "cell_type": "code",
   "execution_count": 98,
   "metadata": {},
   "outputs": [
    {
     "data": {
      "text/plain": [
       "f1 (generic function with 1 method)"
      ]
     },
     "execution_count": 98,
     "metadata": {},
     "output_type": "execute_result"
    }
   ],
   "source": [
    "f1(x,t) = -x"
   ]
  },
  {
   "cell_type": "code",
   "execution_count": 96,
   "metadata": {},
   "outputs": [
    {
     "data": {
      "text/plain": [
       "0.0:0.1:10.0"
      ]
     },
     "execution_count": 96,
     "metadata": {},
     "output_type": "execute_result"
    }
   ],
   "source": [
    "t = 0:0.1:10"
   ]
  },
  {
   "cell_type": "code",
   "execution_count": 100,
   "metadata": {},
   "outputs": [],
   "source": [
    "soln = integrate.odeint(f1, 1, t);"
   ]
  },
  {
   "cell_type": "code",
   "execution_count": null,
   "metadata": {},
   "outputs": [],
   "source": []
  }
 ],
 "metadata": {
  "kernelspec": {
   "display_name": "Julia 1.5.3",
   "language": "julia",
   "name": "julia-1.5"
  },
  "language_info": {
   "file_extension": ".jl",
   "mimetype": "application/julia",
   "name": "julia",
   "version": "1.5.3"
  }
 },
 "nbformat": 4,
 "nbformat_minor": 4
}
