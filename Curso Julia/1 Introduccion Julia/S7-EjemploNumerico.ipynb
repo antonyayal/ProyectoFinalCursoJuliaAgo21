{
 "cells": [
  {
   "cell_type": "markdown",
   "metadata": {},
   "source": [
    "# Ejercicio"
   ]
  },
  {
   "cell_type": "markdown",
   "metadata": {},
   "source": [
    "## El método de Newton para encontrar la raíces de funciones. "
   ]
  },
  {
   "cell_type": "markdown",
   "metadata": {},
   "source": [
    "El método de Newton es un método iterativo para resolver ecuacones de la forma $f(x)=0$, esto es, encontrar las **raíces** o **ceros** de la función $x^\\ast$ tales que $f(x^\\ast)=0$. Dada una $x_0$ inicial propuesta, we itera sobre la fómula:\n",
    "$$x_{n+1} = x_n - \\frac{f(x_n)}{f'(x_n)}$$"
   ]
  },
  {
   "cell_type": "code",
   "execution_count": 3,
   "metadata": {},
   "outputs": [
    {
     "data": {
      "text/plain": [
       "f (generic function with 1 method)"
      ]
     },
     "execution_count": 3,
     "metadata": {},
     "output_type": "execute_result"
    }
   ],
   "source": [
    "f(x) = x^2 - 2"
   ]
  },
  {
   "cell_type": "code",
   "execution_count": 2,
   "metadata": {},
   "outputs": [
    {
     "data": {
      "text/plain": [
       "4"
      ]
     },
     "execution_count": 2,
     "metadata": {},
     "output_type": "execute_result"
    }
   ],
   "source": [
    "x₀ = 4"
   ]
  },
  {
   "cell_type": "code",
   "execution_count": 4,
   "metadata": {},
   "outputs": [
    {
     "data": {
      "text/plain": [
       "Int64"
      ]
     },
     "execution_count": 4,
     "metadata": {},
     "output_type": "execute_result"
    }
   ],
   "source": [
    "typeof(x₀)"
   ]
  },
  {
   "cell_type": "code",
   "execution_count": 4,
   "metadata": {},
   "outputs": [
    {
     "ename": "LoadError",
     "evalue": "syntax: invalid function name \"f'\" around In[4]:1",
     "output_type": "error",
     "traceback": [
      "syntax: invalid function name \"f'\" around In[4]:1",
      "",
      "Stacktrace:",
      " [1] top-level scope at In[4]:1",
      " [2] include_string(::Function, ::Module, ::String, ::String) at ./loading.jl:1091"
     ]
    }
   ],
   "source": [
    "f'(x) = 2x"
   ]
  },
  {
   "cell_type": "code",
   "execution_count": 5,
   "metadata": {},
   "outputs": [
    {
     "data": {
      "text/plain": [
       "f′ (generic function with 1 method)"
      ]
     },
     "execution_count": 5,
     "metadata": {},
     "output_type": "execute_result"
    }
   ],
   "source": [
    "f′(x) = 2x"
   ]
  },
  {
   "cell_type": "code",
   "execution_count": 7,
   "metadata": {},
   "outputs": [
    {
     "data": {
      "text/plain": [
       "2.25"
      ]
     },
     "execution_count": 7,
     "metadata": {},
     "output_type": "execute_result"
    }
   ],
   "source": [
    "x_1 = x₀ - f(x₀) / f′(x₀)"
   ]
  },
  {
   "cell_type": "code",
   "execution_count": 8,
   "metadata": {},
   "outputs": [
    {
     "data": {
      "text/plain": [
       "1:5"
      ]
     },
     "execution_count": 8,
     "metadata": {},
     "output_type": "execute_result"
    }
   ],
   "source": [
    "1:5"
   ]
  },
  {
   "cell_type": "code",
   "execution_count": 9,
   "metadata": {},
   "outputs": [
    {
     "data": {
      "text/plain": [
       "UnitRange{Int64}"
      ]
     },
     "execution_count": 9,
     "metadata": {},
     "output_type": "execute_result"
    }
   ],
   "source": [
    "typeof(1:5)"
   ]
  },
  {
   "cell_type": "code",
   "execution_count": 10,
   "metadata": {},
   "outputs": [
    {
     "data": {
      "text/plain": [
       "5-element Array{Int64,1}:\n",
       " 1\n",
       " 2\n",
       " 3\n",
       " 4\n",
       " 5"
      ]
     },
     "execution_count": 10,
     "metadata": {},
     "output_type": "execute_result"
    }
   ],
   "source": [
    "v = collect(1:5)"
   ]
  },
  {
   "cell_type": "code",
   "execution_count": 11,
   "metadata": {},
   "outputs": [
    {
     "name": "stdout",
     "output_type": "stream",
     "text": [
      "1\t1.8333333333333333\n",
      "2\t1.4621212121212122\n",
      "3\t1.4149984298948028\n",
      "4\t1.4142137800471977\n",
      "5\t1.4142135623731118\n",
      "6\t1.414213562373095\n",
      "7\t1.4142135623730951\n",
      "8\t1.414213562373095\n",
      "9\t1.4142135623730951\n",
      "10\t1.414213562373095\n"
     ]
    }
   ],
   "source": [
    "x_0 = 3\n",
    "x = x_0\n",
    "\n",
    "for i in 1:10\n",
    "    x_new = x - f(x) / f′(x)\n",
    "    println(i, \"\\t\", x_new)\n",
    "    x = x_new\n",
    "end"
   ]
  },
  {
   "cell_type": "code",
   "execution_count": 12,
   "metadata": {},
   "outputs": [
    {
     "name": "stdout",
     "output_type": "stream",
     "text": [
      "1\t-1.8333333333333333\n",
      "2\t-1.4621212121212122\n",
      "3\t-1.4149984298948028\n",
      "4\t-1.4142137800471977\n",
      "5\t-1.4142135623731118\n",
      "6\t-1.414213562373095\n",
      "7\t-1.4142135623730951\n",
      "8\t-1.414213562373095\n",
      "9\t-1.4142135623730951\n",
      "10\t-1.414213562373095\n"
     ]
    }
   ],
   "source": [
    "x_0 = -3\n",
    "x = x_0\n",
    "\n",
    "for i in 1:10\n",
    "    x_new = x - f(x) / f′(x)\n",
    "    println(i, \"\\t\", x_new)\n",
    "    x = x_new\n",
    "end"
   ]
  },
  {
   "cell_type": "markdown",
   "metadata": {},
   "source": [
    "Quiero inspeccionar la convergencia del método con condionces iniciales dentro del inntervalo $[-5,5]$ incluyendo el tamaño del paso dentro del rango, tal vez $0.1$. "
   ]
  },
  {
   "cell_type": "code",
   "execution_count": 14,
   "metadata": {},
   "outputs": [
    {
     "data": {
      "text/plain": [
       "-5.0:0.1:5.0"
      ]
     },
     "execution_count": 14,
     "metadata": {},
     "output_type": "execute_result"
    }
   ],
   "source": [
    "initial_conditions = -5:0.1:5"
   ]
  },
  {
   "cell_type": "code",
   "execution_count": 15,
   "metadata": {},
   "outputs": [
    {
     "data": {
      "text/plain": [
       "-5.0:0.1:5.0"
      ]
     },
     "execution_count": 15,
     "metadata": {},
     "output_type": "execute_result"
    }
   ],
   "source": [
    "initial_conditions"
   ]
  },
  {
   "cell_type": "code",
   "execution_count": 16,
   "metadata": {},
   "outputs": [
    {
     "data": {
      "text/plain": [
       "101-element Array{Float64,1}:\n",
       " -5.0\n",
       " -4.9\n",
       " -4.8\n",
       " -4.7\n",
       " -4.6\n",
       " -4.5\n",
       " -4.4\n",
       " -4.3\n",
       " -4.2\n",
       " -4.1\n",
       " -4.0\n",
       " -3.9\n",
       " -3.8\n",
       "  ⋮\n",
       "  3.9\n",
       "  4.0\n",
       "  4.1\n",
       "  4.2\n",
       "  4.3\n",
       "  4.4\n",
       "  4.5\n",
       "  4.6\n",
       "  4.7\n",
       "  4.8\n",
       "  4.9\n",
       "  5.0"
      ]
     },
     "execution_count": 16,
     "metadata": {},
     "output_type": "execute_result"
    }
   ],
   "source": [
    "collect(initial_conditions)"
   ]
  },
  {
   "cell_type": "code",
   "execution_count": 19,
   "metadata": {},
   "outputs": [
    {
     "name": "stdout",
     "output_type": "stream",
     "text": [
      "[-5.0, -4.9, -4.8, -4.7, -4.6, -4.5, -4.4, -4.3, -4.2, -4.1, -4.0, -3.9, -3.8, -3.7, -3.6, -3.5, -3.4, -3.3, -3.2, -3.1, -3.0, -2.9, -2.8, -2.7, -2.6, -2.5, -2.4, -2.3, -2.2, -2.1, -2.0, -1.9, -1.8, -1.7, -1.6, -1.5, -1.4, -1.3, -1.2, -1.1, -1.0, -0.9, -0.8, -0.7, -0.6, -0.5, -0.4, -0.3, -0.2, -0.1, 0.0, 0.1, 0.2, 0.3, 0.4, 0.5, 0.6, 0.7, 0.8, 0.9, 1.0, 1.1, 1.2, 1.3, 1.4, 1.5, 1.6, 1.7, 1.8, 1.9, 2.0, 2.1, 2.2, 2.3, 2.4, 2.5, 2.6, 2.7, 2.8, 2.9, 3.0, 3.1, 3.2, 3.3, 3.4, 3.5, 3.6, 3.7, 3.8, 3.9, 4.0, 4.1, 4.2, 4.3, 4.4, 4.5, 4.6, 4.7, 4.8, 4.9, 5.0]"
     ]
    }
   ],
   "source": [
    "show(collect(initial_conditions))"
   ]
  },
  {
   "cell_type": "code",
   "execution_count": 20,
   "metadata": {},
   "outputs": [
    {
     "data": {
      "text/plain": [
       "enumerate(-5.0:0.1:5.0)"
      ]
     },
     "execution_count": 20,
     "metadata": {},
     "output_type": "execute_result"
    }
   ],
   "source": [
    "enumerate(initial_conditions)"
   ]
  },
  {
   "cell_type": "code",
   "execution_count": 22,
   "metadata": {},
   "outputs": [
    {
     "data": {
      "text/plain": [
       "101-element Array{Float64,1}:\n",
       " -5.0\n",
       " -4.9\n",
       " -4.8\n",
       " -4.7\n",
       " -4.6\n",
       " -4.5\n",
       " -4.4\n",
       " -4.3\n",
       " -4.2\n",
       " -4.1\n",
       " -4.0\n",
       " -3.9\n",
       " -3.8\n",
       "  ⋮\n",
       "  3.9\n",
       "  4.0\n",
       "  4.1\n",
       "  4.2\n",
       "  4.3\n",
       "  4.4\n",
       "  4.5\n",
       "  4.6\n",
       "  4.7\n",
       "  4.8\n",
       "  4.9\n",
       "  5.0"
      ]
     },
     "execution_count": 22,
     "metadata": {},
     "output_type": "execute_result"
    }
   ],
   "source": [
    "raices = similar(initial_conditions)"
   ]
  },
  {
   "cell_type": "code",
   "execution_count": 23,
   "metadata": {},
   "outputs": [],
   "source": [
    "for (j, x_0) in enumerate(initial_conditions)\n",
    "    x = x_0\n",
    "    \n",
    "    for i in 1:100\n",
    "        x = x - f(x) / f′(x)\n",
    "    end\n",
    "    \n",
    "    raices[j]= x   \n",
    "end"
   ]
  },
  {
   "cell_type": "code",
   "execution_count": 24,
   "metadata": {},
   "outputs": [
    {
     "name": "stdout",
     "output_type": "stream",
     "text": [
      "[-1.4142135623730951, -1.4142135623730951, -1.414213562373095, -1.4142135623730951, -1.4142135623730951, -1.4142135623730951, -1.4142135623730951, -1.414213562373095, -1.4142135623730951, -1.4142135623730951, -1.4142135623730951, -1.414213562373095, -1.4142135623730951, -1.414213562373095, -1.414213562373095, -1.4142135623730951, -1.414213562373095, -1.4142135623730951, -1.4142135623730951, -1.4142135623730951, -1.414213562373095, -1.4142135623730951, -1.4142135623730951, -1.414213562373095, -1.4142135623730951, -1.4142135623730951, -1.4142135623730951, -1.4142135623730951, -1.414213562373095, -1.414213562373095, -1.414213562373095, -1.414213562373095, -1.4142135623730951, -1.4142135623730951, -1.4142135623730951, -1.4142135623730951, -1.414213562373095, -1.414213562373095, -1.4142135623730951, -1.414213562373095, -1.414213562373095, -1.414213562373095, -1.4142135623730951, -1.414213562373095, -1.414213562373095, -1.4142135623730951, -1.4142135623730951, -1.414213562373095, -1.4142135623730951, -1.414213562373095, NaN, 1.414213562373095, 1.4142135623730951, 1.414213562373095, 1.4142135623730951, 1.4142135623730951, 1.414213562373095, 1.414213562373095, 1.4142135623730951, 1.414213562373095, 1.414213562373095, 1.414213562373095, 1.4142135623730951, 1.414213562373095, 1.414213562373095, 1.4142135623730951, 1.4142135623730951, 1.4142135623730951, 1.4142135623730951, 1.414213562373095, 1.414213562373095, 1.414213562373095, 1.414213562373095, 1.4142135623730951, 1.4142135623730951, 1.4142135623730951, 1.4142135623730951, 1.414213562373095, 1.4142135623730951, 1.4142135623730951, 1.414213562373095, 1.4142135623730951, 1.4142135623730951, 1.4142135623730951, 1.414213562373095, 1.4142135623730951, 1.414213562373095, 1.414213562373095, 1.4142135623730951, 1.414213562373095, 1.4142135623730951, 1.4142135623730951, 1.4142135623730951, 1.414213562373095, 1.4142135623730951, 1.4142135623730951, 1.4142135623730951, 1.4142135623730951, 1.414213562373095, 1.4142135623730951, 1.4142135623730951]"
     ]
    }
   ],
   "source": [
    "show(raices)"
   ]
  },
  {
   "cell_type": "code",
   "execution_count": 25,
   "metadata": {},
   "outputs": [
    {
     "name": "stdout",
     "output_type": "stream",
     "text": [
      "  0.401688 seconds (8.22 M allocations: 128.012 MiB, 15.84% gc time)\n"
     ]
    }
   ],
   "source": [
    "@time begin\n",
    "    initial_conditions = -100:0.01:100\n",
    "    raices = similar(initial_conditions)\n",
    "    \n",
    "    for (j, x_0) in enumerate(initial_conditions)\n",
    "    x = x_0\n",
    "    \n",
    "      for i in 1:100\n",
    "        x = x - f(x) / f′(x)\n",
    "      end\n",
    "    \n",
    "    raices[j]= x   \n",
    "    end\n",
    "    \n",
    "end"
   ]
  },
  {
   "cell_type": "code",
   "execution_count": 17,
   "metadata": {},
   "outputs": [],
   "source": [
    "#using Pkg\n",
    "#Pkg.add(\"PyPlot\")\n",
    "using PyPlot"
   ]
  },
  {
   "cell_type": "code",
   "execution_count": 28,
   "metadata": {},
   "outputs": [
    {
     "data": {
      "image/png": "[encoded data removed]",
      "text/plain": [
       "Figure(PyObject <Figure size 600x400 with 1 Axes>)"
      ]
     },
     "metadata": {},
     "output_type": "display_data"
    },
    {
     "data": {
      "text/plain": [
       "1-element Array{PyCall.PyObject,1}:\n",
       " PyObject <matplotlib.lines.Line2D object at 0x7f53a5543278>"
      ]
     },
     "execution_count": 28,
     "metadata": {},
     "output_type": "execute_result"
    }
   ],
   "source": [
    "figure(figsize = (6,4))\n",
    "plot(initial_conditions, raices, \"b.\")"
   ]
  },
  {
   "cell_type": "code",
   "execution_count": 1,
   "metadata": {},
   "outputs": [
    {
     "data": {
      "text/plain": [
       "calcula_raices (generic function with 1 method)"
      ]
     },
     "execution_count": 1,
     "metadata": {},
     "output_type": "execute_result"
    }
   ],
   "source": [
    "function calcula_raices()\n",
    "    \n",
    "    initial_conditions = -100:0.01:100\n",
    "    raices = similar(initial_conditions)\n",
    "    \n",
    "    for (j, x_0) in enumerate(initial_conditions)\n",
    "     x = x_0\n",
    "    \n",
    "      for i in 1:100\n",
    "        x = x - f(x) / f′(x)\n",
    "      end\n",
    "    \n",
    "    raices[j]= x   \n",
    "    end\n",
    "    \n",
    "    return raices\n",
    "    \n",
    "end"
   ]
  },
  {
   "cell_type": "code",
   "execution_count": 6,
   "metadata": {},
   "outputs": [
    {
     "data": {
      "text/plain": [
       "20001-element Array{Float64,1}:\n",
       " -1.414213562373095\n",
       " -1.414213562373095\n",
       " -1.414213562373095\n",
       " -1.414213562373095\n",
       " -1.414213562373095\n",
       " -1.414213562373095\n",
       " -1.4142135623730951\n",
       " -1.4142135623730951\n",
       " -1.414213562373095\n",
       " -1.414213562373095\n",
       " -1.4142135623730951\n",
       " -1.4142135623730951\n",
       " -1.414213562373095\n",
       "  ⋮\n",
       "  1.4142135623730951\n",
       "  1.4142135623730951\n",
       "  1.414213562373095\n",
       "  1.414213562373095\n",
       "  1.4142135623730951\n",
       "  1.4142135623730951\n",
       "  1.414213562373095\n",
       "  1.414213562373095\n",
       "  1.414213562373095\n",
       "  1.414213562373095\n",
       "  1.414213562373095\n",
       "  1.414213562373095"
      ]
     },
     "execution_count": 6,
     "metadata": {},
     "output_type": "execute_result"
    }
   ],
   "source": [
    "myroots = calcula_raices()"
   ]
  },
  {
   "cell_type": "code",
   "execution_count": 7,
   "metadata": {},
   "outputs": [
    {
     "data": {
      "text/plain": [
       "Array{Float64,1}"
      ]
     },
     "execution_count": 7,
     "metadata": {},
     "output_type": "execute_result"
    }
   ],
   "source": [
    "typeof(ans)"
   ]
  },
  {
   "cell_type": "code",
   "execution_count": 10,
   "metadata": {},
   "outputs": [
    {
     "name": "stdout",
     "output_type": "stream",
     "text": [
      "  0.280612 seconds (8.04 M allocations: 122.832 MiB, 7.15% gc time)\n",
      "  0.235986 seconds (8.04 M allocations: 122.832 MiB, 10.64% gc time)\n"
     ]
    },
    {
     "data": {
      "text/plain": [
       "20001-element Array{Float64,1}:\n",
       " -1.414213562373095\n",
       " -1.414213562373095\n",
       " -1.414213562373095\n",
       " -1.414213562373095\n",
       " -1.414213562373095\n",
       " -1.414213562373095\n",
       " -1.4142135623730951\n",
       " -1.4142135623730951\n",
       " -1.414213562373095\n",
       " -1.414213562373095\n",
       " -1.4142135623730951\n",
       " -1.4142135623730951\n",
       " -1.414213562373095\n",
       "  ⋮\n",
       "  1.4142135623730951\n",
       "  1.4142135623730951\n",
       "  1.414213562373095\n",
       "  1.414213562373095\n",
       "  1.4142135623730951\n",
       "  1.4142135623730951\n",
       "  1.414213562373095\n",
       "  1.414213562373095\n",
       "  1.414213562373095\n",
       "  1.414213562373095\n",
       "  1.414213562373095\n",
       "  1.414213562373095"
      ]
     },
     "execution_count": 10,
     "metadata": {},
     "output_type": "execute_result"
    }
   ],
   "source": [
    "@time myroots = calcula_raices()\n",
    "@time myroots = calcula_raices()"
   ]
  },
  {
   "cell_type": "code",
   "execution_count": 11,
   "metadata": {},
   "outputs": [
    {
     "data": {
      "text/plain": [
       "calcula_raices (generic function with 2 methods)"
      ]
     },
     "execution_count": 11,
     "metadata": {},
     "output_type": "execute_result"
    }
   ],
   "source": [
    "function calcula_raices(f, f′)\n",
    "    \n",
    "    initial_conditions = -100:0.01:100\n",
    "    raices = similar(initial_conditions)\n",
    "    \n",
    "    for (j, x_0) in enumerate(initial_conditions)\n",
    "     x = x_0\n",
    "    \n",
    "      for i in 1:100\n",
    "        x = x - f(x) / f′(x)\n",
    "      end\n",
    "    \n",
    "    raices[j]= x   \n",
    "    end\n",
    "    \n",
    "    return raices\n",
    "    \n",
    "end"
   ]
  },
  {
   "cell_type": "code",
   "execution_count": 12,
   "metadata": {},
   "outputs": [
    {
     "data": {
      "text/html": [
       "# 2 methods for generic function <b>calcula_raices</b>:<ul><li> calcula_raices() in Main at In[1]:1</li> <li> calcula_raices(f, f′) in Main at In[11]:1</li> </ul>"
      ],
      "text/plain": [
       "# 2 methods for generic function \"calcula_raices\":\n",
       "[1] calcula_raices() in Main at In[1]:1\n",
       "[2] calcula_raices(f, f′) in Main at In[11]:1"
      ]
     },
     "execution_count": 12,
     "metadata": {},
     "output_type": "execute_result"
    }
   ],
   "source": [
    "methods(calcula_raices)"
   ]
  },
  {
   "cell_type": "code",
   "execution_count": 13,
   "metadata": {},
   "outputs": [
    {
     "name": "stdout",
     "output_type": "stream",
     "text": [
      "  0.029041 seconds (2 allocations: 156.391 KiB)\n"
     ]
    }
   ],
   "source": [
    "@time calcula_raices(f, f′);"
   ]
  },
  {
   "cell_type": "code",
   "execution_count": 14,
   "metadata": {},
   "outputs": [
    {
     "name": "stdout",
     "output_type": "stream",
     "text": [
      "  0.022581 seconds (2 allocations: 156.391 KiB)\n"
     ]
    }
   ],
   "source": [
    "@time calcula_raices(f, f′);"
   ]
  },
  {
   "cell_type": "code",
   "execution_count": 16,
   "metadata": {},
   "outputs": [
    {
     "name": "stdout",
     "output_type": "stream",
     "text": [
      "  0.167869 seconds (209.71 k allocations: 12.388 MiB, 12.76% gc time)\n"
     ]
    }
   ],
   "source": [
    "@time myroots = calcula_raices(x->(x-1)*(x-2)*(x-3), x-> 3x^2 - 12x + 11);"
   ]
  },
  {
   "cell_type": "code",
   "execution_count": 18,
   "metadata": {},
   "outputs": [
    {
     "data": {
      "image/png": "[encoded data removed]",
      "text/plain": [
       "Figure(PyObject <Figure size 600x400 with 1 Axes>)"
      ]
     },
     "metadata": {},
     "output_type": "display_data"
    },
    {
     "data": {
      "text/plain": [
       "1-element Array{PyCall.PyObject,1}:\n",
       " PyObject <matplotlib.lines.Line2D object at 0x7f66a93ee278>"
      ]
     },
     "execution_count": 18,
     "metadata": {},
     "output_type": "execute_result"
    }
   ],
   "source": [
    "figure(figsize=(6,4))\n",
    "plot(-100:0.01:100, myroots)"
   ]
  },
  {
   "cell_type": "markdown",
   "metadata": {},
   "source": [
    "### Método de Nuewton para funciones complejas"
   ]
  },
  {
   "cell_type": "markdown",
   "metadata": {},
   "source": [
    "El resultado anterior es muy aburrido. Vamos a diseñar un nuevo ejercicio que haga que el método de Newton funcione algo más interesante, digamos que utilizaremos números complejos.\n",
    "\n",
    "Intentaremos aplicar el método de Newton comenzando con condiciones iniciales distribuidas en el plano complejo, esto es pares de la forma $a+bi$ donde $i=\\sqrt{-1}$. Antes que otra cosa, vamos a ver como maneja Julia los números complejos:"
   ]
  },
  {
   "cell_type": "code",
   "execution_count": 6,
   "metadata": {},
   "outputs": [
    {
     "ename": "LoadError",
     "evalue": "DomainError with -1.0:\nsqrt will only return a complex result if called with a complex argument. Try sqrt(Complex(x)).",
     "output_type": "error",
     "traceback": [
      "DomainError with -1.0:\nsqrt will only return a complex result if called with a complex argument. Try sqrt(Complex(x)).",
      "",
      "Stacktrace:",
      " [1] throw_complex_domainerror(::Symbol, ::Float64) at ./math.jl:33",
      " [2] sqrt at ./math.jl:573 [inlined]",
      " [3] sqrt(::Int64) at ./math.jl:599",
      " [4] top-level scope at In[6]:1",
      " [5] include_string(::Function, ::Module, ::String, ::String) at ./loading.jl:1091"
     ]
    }
   ],
   "source": [
    "sqrt(-1) #error"
   ]
  },
  {
   "cell_type": "code",
   "execution_count": 7,
   "metadata": {},
   "outputs": [
    {
     "data": {
      "text/plain": [
       "4-element Array{Any,1}:\n",
       " AbstractFloat\n",
       " AbstractIrrational\n",
       " Integer\n",
       " Rational"
      ]
     },
     "execution_count": 7,
     "metadata": {},
     "output_type": "execute_result"
    }
   ],
   "source": [
    "subtypes(Real)"
   ]
  },
  {
   "cell_type": "markdown",
   "metadata": {},
   "source": [
    "Vemos que los tipos tienen funciones asociados a ellos con el mismo nombre, las cuales sirven como *constructores* to hacer objetos de este tipo. Construyamos un número complejo:"
   ]
  },
  {
   "cell_type": "code",
   "execution_count": 8,
   "metadata": {},
   "outputs": [
    {
     "data": {
      "text/plain": [
       "3 + 0im"
      ]
     },
     "execution_count": 8,
     "metadata": {},
     "output_type": "execute_result"
    }
   ],
   "source": [
    "Complex(3)"
   ]
  },
  {
   "cell_type": "code",
   "execution_count": 9,
   "metadata": {},
   "outputs": [
    {
     "data": {
      "text/plain": [
       "Complex{Int64}"
      ]
     },
     "execution_count": 9,
     "metadata": {},
     "output_type": "execute_result"
    }
   ],
   "source": [
    "a = Complex(3)\n",
    "typeof(a)"
   ]
  },
  {
   "cell_type": "code",
   "execution_count": 10,
   "metadata": {},
   "outputs": [
    {
     "data": {
      "text/plain": [
       "3.0 + 4.5im"
      ]
     },
     "execution_count": 10,
     "metadata": {},
     "output_type": "execute_result"
    }
   ],
   "source": [
    "b = Complex(3, 4.5)\n",
    "b"
   ]
  },
  {
   "cell_type": "markdown",
   "metadata": {},
   "source": [
    "Vamos a crear una matriz para guardar números complejos:"
   ]
  },
  {
   "cell_type": "code",
   "execution_count": 13,
   "metadata": {},
   "outputs": [
    {
     "name": "stdout",
     "output_type": "stream",
     "text": [
      "(-2, -2)\n",
      "(-2, -1)\n",
      "(-2, 0)\n",
      "(-2, 1)\n",
      "(-1, -2)\n",
      "(-1, -1)\n",
      "(-1, 0)\n",
      "(-1, 1)\n",
      "(0, -2)\n",
      "(0, -1)\n",
      "(0, 0)\n",
      "(0, 1)\n",
      "(1, -2)\n",
      "(1, -1)\n",
      "(1, 0)\n",
      "(1, 1)\n"
     ]
    }
   ],
   "source": [
    "# por medio de un ciclo creamos valores\n",
    "for i in -2:1, j in -2:1\n",
    "        println(\"($i, $j)\")\n",
    "end"
   ]
  },
  {
   "cell_type": "markdown",
   "metadata": {},
   "source": [
    "Una forma sencilla de generar una matriz es con la función `zeros()`:"
   ]
  },
  {
   "cell_type": "code",
   "execution_count": 15,
   "metadata": {},
   "outputs": [
    {
     "data": {
      "text/plain": [
       "3-element Array{Float64,1}:\n",
       " 0.0\n",
       " 0.0\n",
       " 0.0"
      ]
     },
     "execution_count": 15,
     "metadata": {},
     "output_type": "execute_result"
    }
   ],
   "source": [
    "zeros(3)"
   ]
  },
  {
   "cell_type": "code",
   "execution_count": 16,
   "metadata": {},
   "outputs": [
    {
     "data": {
      "text/plain": [
       "3×3 Array{Float64,2}:\n",
       " 0.0  0.0  0.0\n",
       " 0.0  0.0  0.0\n",
       " 0.0  0.0  0.0"
      ]
     },
     "execution_count": 16,
     "metadata": {},
     "output_type": "execute_result"
    }
   ],
   "source": [
    "zeros(3,3)"
   ]
  },
  {
   "cell_type": "code",
   "execution_count": 17,
   "metadata": {},
   "outputs": [
    {
     "data": {
      "text/plain": [
       "(3, 3)"
      ]
     },
     "execution_count": 17,
     "metadata": {},
     "output_type": "execute_result"
    }
   ],
   "source": [
    "size(ans)"
   ]
  },
  {
   "cell_type": "code",
   "execution_count": 22,
   "metadata": {},
   "outputs": [
    {
     "data": {
      "text/plain": [
       "101×101 Array{Float64,2}:\n",
       " 0.0  0.0  0.0  0.0  0.0  0.0  0.0  0.0  …  0.0  0.0  0.0  0.0  0.0  0.0  0.0\n",
       " 0.0  0.0  0.0  0.0  0.0  0.0  0.0  0.0     0.0  0.0  0.0  0.0  0.0  0.0  0.0\n",
       " 0.0  0.0  0.0  0.0  0.0  0.0  0.0  0.0     0.0  0.0  0.0  0.0  0.0  0.0  0.0\n",
       " 0.0  0.0  0.0  0.0  0.0  0.0  0.0  0.0     0.0  0.0  0.0  0.0  0.0  0.0  0.0\n",
       " 0.0  0.0  0.0  0.0  0.0  0.0  0.0  0.0     0.0  0.0  0.0  0.0  0.0  0.0  0.0\n",
       " 0.0  0.0  0.0  0.0  0.0  0.0  0.0  0.0  …  0.0  0.0  0.0  0.0  0.0  0.0  0.0\n",
       " 0.0  0.0  0.0  0.0  0.0  0.0  0.0  0.0     0.0  0.0  0.0  0.0  0.0  0.0  0.0\n",
       " 0.0  0.0  0.0  0.0  0.0  0.0  0.0  0.0     0.0  0.0  0.0  0.0  0.0  0.0  0.0\n",
       " 0.0  0.0  0.0  0.0  0.0  0.0  0.0  0.0     0.0  0.0  0.0  0.0  0.0  0.0  0.0\n",
       " 0.0  0.0  0.0  0.0  0.0  0.0  0.0  0.0     0.0  0.0  0.0  0.0  0.0  0.0  0.0\n",
       " 0.0  0.0  0.0  0.0  0.0  0.0  0.0  0.0  …  0.0  0.0  0.0  0.0  0.0  0.0  0.0\n",
       " 0.0  0.0  0.0  0.0  0.0  0.0  0.0  0.0     0.0  0.0  0.0  0.0  0.0  0.0  0.0\n",
       " 0.0  0.0  0.0  0.0  0.0  0.0  0.0  0.0     0.0  0.0  0.0  0.0  0.0  0.0  0.0\n",
       " ⋮                        ⋮              ⋱       ⋮                        ⋮\n",
       " 0.0  0.0  0.0  0.0  0.0  0.0  0.0  0.0     0.0  0.0  0.0  0.0  0.0  0.0  0.0\n",
       " 0.0  0.0  0.0  0.0  0.0  0.0  0.0  0.0  …  0.0  0.0  0.0  0.0  0.0  0.0  0.0\n",
       " 0.0  0.0  0.0  0.0  0.0  0.0  0.0  0.0     0.0  0.0  0.0  0.0  0.0  0.0  0.0\n",
       " 0.0  0.0  0.0  0.0  0.0  0.0  0.0  0.0     0.0  0.0  0.0  0.0  0.0  0.0  0.0\n",
       " 0.0  0.0  0.0  0.0  0.0  0.0  0.0  0.0     0.0  0.0  0.0  0.0  0.0  0.0  0.0\n",
       " 0.0  0.0  0.0  0.0  0.0  0.0  0.0  0.0     0.0  0.0  0.0  0.0  0.0  0.0  0.0\n",
       " 0.0  0.0  0.0  0.0  0.0  0.0  0.0  0.0  …  0.0  0.0  0.0  0.0  0.0  0.0  0.0\n",
       " 0.0  0.0  0.0  0.0  0.0  0.0  0.0  0.0     0.0  0.0  0.0  0.0  0.0  0.0  0.0\n",
       " 0.0  0.0  0.0  0.0  0.0  0.0  0.0  0.0     0.0  0.0  0.0  0.0  0.0  0.0  0.0\n",
       " 0.0  0.0  0.0  0.0  0.0  0.0  0.0  0.0     0.0  0.0  0.0  0.0  0.0  0.0  0.0\n",
       " 0.0  0.0  0.0  0.0  0.0  0.0  0.0  0.0     0.0  0.0  0.0  0.0  0.0  0.0  0.0\n",
       " 0.0  0.0  0.0  0.0  0.0  0.0  0.0  0.0  …  0.0  0.0  0.0  0.0  0.0  0.0  0.0"
      ]
     },
     "execution_count": 22,
     "metadata": {},
     "output_type": "execute_result"
    }
   ],
   "source": [
    "linear_initial_conditions = -5:0.1:5\n",
    "L = length(linear_initial_conditions)\n",
    "myroots = zeros(L,L)"
   ]
  },
  {
   "cell_type": "code",
   "execution_count": 27,
   "metadata": {},
   "outputs": [
    {
     "ename": "LoadError",
     "evalue": "InexactError: Float64(3 + 4im)",
     "output_type": "error",
     "traceback": [
      "InexactError: Float64(3 + 4im)",
      "",
      "Stacktrace:",
      " [1] Real at ./complex.jl:37 [inlined]",
      " [2] convert at ./number.jl:7 [inlined]",
      " [3] setindex!(::Array{Float64,2}, ::Complex{Int64}, ::Int64, ::Int64) at ./array.jl:849",
      " [4] top-level scope at In[27]:1",
      " [5] include_string(::Function, ::Module, ::String, ::String) at ./loading.jl:1091"
     ]
    }
   ],
   "source": [
    "myroots[1,1] = 3 + 4im #error"
   ]
  },
  {
   "cell_type": "markdown",
   "metadata": {},
   "source": [
    "El error que obtenemos `InexactError` se refiere a la imposibilidad de colocar un dato dentro de un elemento de objeto con tipo de dato más pequeño, por ejemplo un `Float64` dentro de un `Int64`, en este caso un `Complex` dento de un `Float`. Debemos, en su lugar, crear una matriz que aloje números complejos."
   ]
  },
  {
   "cell_type": "code",
   "execution_count": 31,
   "metadata": {},
   "outputs": [
    {
     "data": {
      "text/plain": [
       "101×101 Array{Complex{Float64},2}:\n",
       " 0.0+0.0im  0.0+0.0im  0.0+0.0im  …  0.0+0.0im  0.0+0.0im  0.0+0.0im\n",
       " 0.0+0.0im  0.0+0.0im  0.0+0.0im     0.0+0.0im  0.0+0.0im  0.0+0.0im\n",
       " 0.0+0.0im  0.0+0.0im  0.0+0.0im     0.0+0.0im  0.0+0.0im  0.0+0.0im\n",
       " 0.0+0.0im  0.0+0.0im  0.0+0.0im     0.0+0.0im  0.0+0.0im  0.0+0.0im\n",
       " 0.0+0.0im  0.0+0.0im  0.0+0.0im     0.0+0.0im  0.0+0.0im  0.0+0.0im\n",
       " 0.0+0.0im  0.0+0.0im  0.0+0.0im  …  0.0+0.0im  0.0+0.0im  0.0+0.0im\n",
       " 0.0+0.0im  0.0+0.0im  0.0+0.0im     0.0+0.0im  0.0+0.0im  0.0+0.0im\n",
       " 0.0+0.0im  0.0+0.0im  0.0+0.0im     0.0+0.0im  0.0+0.0im  0.0+0.0im\n",
       " 0.0+0.0im  0.0+0.0im  0.0+0.0im     0.0+0.0im  0.0+0.0im  0.0+0.0im\n",
       " 0.0+0.0im  0.0+0.0im  0.0+0.0im     0.0+0.0im  0.0+0.0im  0.0+0.0im\n",
       " 0.0+0.0im  0.0+0.0im  0.0+0.0im  …  0.0+0.0im  0.0+0.0im  0.0+0.0im\n",
       " 0.0+0.0im  0.0+0.0im  0.0+0.0im     0.0+0.0im  0.0+0.0im  0.0+0.0im\n",
       " 0.0+0.0im  0.0+0.0im  0.0+0.0im     0.0+0.0im  0.0+0.0im  0.0+0.0im\n",
       "    ⋮                             ⋱                           ⋮\n",
       " 0.0+0.0im  0.0+0.0im  0.0+0.0im     0.0+0.0im  0.0+0.0im  0.0+0.0im\n",
       " 0.0+0.0im  0.0+0.0im  0.0+0.0im  …  0.0+0.0im  0.0+0.0im  0.0+0.0im\n",
       " 0.0+0.0im  0.0+0.0im  0.0+0.0im     0.0+0.0im  0.0+0.0im  0.0+0.0im\n",
       " 0.0+0.0im  0.0+0.0im  0.0+0.0im     0.0+0.0im  0.0+0.0im  0.0+0.0im\n",
       " 0.0+0.0im  0.0+0.0im  0.0+0.0im     0.0+0.0im  0.0+0.0im  0.0+0.0im\n",
       " 0.0+0.0im  0.0+0.0im  0.0+0.0im     0.0+0.0im  0.0+0.0im  0.0+0.0im\n",
       " 0.0+0.0im  0.0+0.0im  0.0+0.0im  …  0.0+0.0im  0.0+0.0im  0.0+0.0im\n",
       " 0.0+0.0im  0.0+0.0im  0.0+0.0im     0.0+0.0im  0.0+0.0im  0.0+0.0im\n",
       " 0.0+0.0im  0.0+0.0im  0.0+0.0im     0.0+0.0im  0.0+0.0im  0.0+0.0im\n",
       " 0.0+0.0im  0.0+0.0im  0.0+0.0im     0.0+0.0im  0.0+0.0im  0.0+0.0im\n",
       " 0.0+0.0im  0.0+0.0im  0.0+0.0im     0.0+0.0im  0.0+0.0im  0.0+0.0im\n",
       " 0.0+0.0im  0.0+0.0im  0.0+0.0im  …  0.0+0.0im  0.0+0.0im  0.0+0.0im"
      ]
     },
     "execution_count": 31,
     "metadata": {},
     "output_type": "execute_result"
    }
   ],
   "source": [
    "linear_initial_conditions = -5:0.1:5\n",
    "L = length(linear_initial_conditions)\n",
    "myroots = zeros(ComplexF64, L,L)"
   ]
  },
  {
   "cell_type": "code",
   "execution_count": 29,
   "metadata": {},
   "outputs": [
    {
     "name": "stdout",
     "output_type": "stream",
     "text": [
      "search: \u001b[0m\u001b[1mC\u001b[22m\u001b[0m\u001b[1mo\u001b[22m\u001b[0m\u001b[1mm\u001b[22m\u001b[0m\u001b[1mp\u001b[22m\u001b[0m\u001b[1ml\u001b[22m\u001b[0m\u001b[1me\u001b[22m\u001b[0m\u001b[1mx\u001b[22m \u001b[0m\u001b[1mc\u001b[22m\u001b[0m\u001b[1mo\u001b[22m\u001b[0m\u001b[1mm\u001b[22m\u001b[0m\u001b[1mp\u001b[22m\u001b[0m\u001b[1ml\u001b[22m\u001b[0m\u001b[1me\u001b[22m\u001b[0m\u001b[1mx\u001b[22m \u001b[0m\u001b[1mC\u001b[22m\u001b[0m\u001b[1mo\u001b[22m\u001b[0m\u001b[1mm\u001b[22m\u001b[0m\u001b[1mp\u001b[22m\u001b[0m\u001b[1ml\u001b[22m\u001b[0m\u001b[1me\u001b[22m\u001b[0m\u001b[1mx\u001b[22mF64 \u001b[0m\u001b[1mC\u001b[22m\u001b[0m\u001b[1mo\u001b[22m\u001b[0m\u001b[1mm\u001b[22m\u001b[0m\u001b[1mp\u001b[22m\u001b[0m\u001b[1ml\u001b[22m\u001b[0m\u001b[1me\u001b[22m\u001b[0m\u001b[1mx\u001b[22mF32 \u001b[0m\u001b[1mC\u001b[22m\u001b[0m\u001b[1mo\u001b[22m\u001b[0m\u001b[1mm\u001b[22m\u001b[0m\u001b[1mp\u001b[22m\u001b[0m\u001b[1ml\u001b[22m\u001b[0m\u001b[1me\u001b[22m\u001b[0m\u001b[1mx\u001b[22mF16 pre\u001b[0m\u001b[1mc\u001b[22m\u001b[0m\u001b[1mo\u001b[22m\u001b[0m\u001b[1mm\u001b[22m\u001b[0m\u001b[1mp\u001b[22mi\u001b[0m\u001b[1ml\u001b[22m\u001b[0m\u001b[1me\u001b[22m\n",
      "\n"
     ]
    },
    {
     "data": {
      "text/latex": [
       "\\begin{verbatim}\n",
       "Complex{T<:Real} <: Number\n",
       "\\end{verbatim}\n",
       "Complex number type with real and imaginary part of type \\texttt{T}.\n",
       "\n",
       "\\texttt{ComplexF16}, \\texttt{ComplexF32} and \\texttt{ComplexF64} are aliases for \\texttt{Complex\\{Float16\\}}, \\texttt{Complex\\{Float32\\}} and \\texttt{Complex\\{Float64\\}} respectively.\n",
       "\n"
      ],
      "text/markdown": [
       "```\n",
       "Complex{T<:Real} <: Number\n",
       "```\n",
       "\n",
       "Complex number type with real and imaginary part of type `T`.\n",
       "\n",
       "`ComplexF16`, `ComplexF32` and `ComplexF64` are aliases for `Complex{Float16}`, `Complex{Float32}` and `Complex{Float64}` respectively.\n"
      ],
      "text/plain": [
       "\u001b[36m  Complex{T<:Real} <: Number\u001b[39m\n",
       "\n",
       "  Complex number type with real and imaginary part of type \u001b[36mT\u001b[39m.\n",
       "\n",
       "  \u001b[36mComplexF16\u001b[39m, \u001b[36mComplexF32\u001b[39m and \u001b[36mComplexF64\u001b[39m are aliases for \u001b[36mComplex{Float16}\u001b[39m,\n",
       "  \u001b[36mComplex{Float32}\u001b[39m and \u001b[36mComplex{Float64}\u001b[39m respectively."
      ]
     },
     "execution_count": 29,
     "metadata": {},
     "output_type": "execute_result"
    }
   ],
   "source": [
    "?Complex"
   ]
  },
  {
   "cell_type": "code",
   "execution_count": 32,
   "metadata": {},
   "outputs": [
    {
     "data": {
      "text/plain": [
       "3 + 4im"
      ]
     },
     "execution_count": 32,
     "metadata": {},
     "output_type": "execute_result"
    }
   ],
   "source": [
    "myroots[1,1] = 3 + 4im # funciona"
   ]
  },
  {
   "cell_type": "markdown",
   "metadata": {},
   "source": [
    "Ahora estamos listos para hacer la versión del método de Newton para que reciba funciones complejas. Vamos a intentar encontrar raíces cúbicas de 1 en el plano complejo, al encontrar los ceros de la función:"
   ]
  },
  {
   "cell_type": "code",
   "execution_count": 34,
   "metadata": {},
   "outputs": [
    {
     "data": {
      "text/plain": [
       "f (generic function with 1 method)"
      ]
     },
     "execution_count": 34,
     "metadata": {},
     "output_type": "execute_result"
    }
   ],
   "source": [
    "f(z) = z^3 - 1"
   ]
  },
  {
   "cell_type": "code",
   "execution_count": 35,
   "metadata": {},
   "outputs": [
    {
     "data": {
      "text/plain": [
       "26"
      ]
     },
     "execution_count": 35,
     "metadata": {},
     "output_type": "execute_result"
    }
   ],
   "source": [
    "f(3)"
   ]
  },
  {
   "cell_type": "code",
   "execution_count": 36,
   "metadata": {},
   "outputs": [
    {
     "data": {
      "text/plain": [
       "-118 + 44im"
      ]
     },
     "execution_count": 36,
     "metadata": {},
     "output_type": "execute_result"
    }
   ],
   "source": [
    "f(3 + 4im)"
   ]
  },
  {
   "cell_type": "markdown",
   "metadata": {},
   "source": [
    "con derivada:"
   ]
  },
  {
   "cell_type": "code",
   "execution_count": 37,
   "metadata": {},
   "outputs": [
    {
     "data": {
      "text/plain": [
       "f′ (generic function with 1 method)"
      ]
     },
     "execution_count": 37,
     "metadata": {},
     "output_type": "execute_result"
    }
   ],
   "source": [
    "f′(z) = 3z^2"
   ]
  },
  {
   "cell_type": "code",
   "execution_count": 38,
   "metadata": {},
   "outputs": [
    {
     "data": {
      "text/plain": [
       "27"
      ]
     },
     "execution_count": 38,
     "metadata": {},
     "output_type": "execute_result"
    }
   ],
   "source": [
    "f′(3)"
   ]
  },
  {
   "cell_type": "code",
   "execution_count": 39,
   "metadata": {},
   "outputs": [
    {
     "data": {
      "text/plain": [
       "-21 + 72im"
      ]
     },
     "execution_count": 39,
     "metadata": {},
     "output_type": "execute_result"
    }
   ],
   "source": [
    "f′(3 + 4im)"
   ]
  },
  {
   "cell_type": "code",
   "execution_count": 40,
   "metadata": {},
   "outputs": [
    {
     "data": {
      "text/plain": [
       "do_complex_roots (generic function with 2 methods)"
      ]
     },
     "execution_count": 40,
     "metadata": {},
     "output_type": "execute_result"
    }
   ],
   "source": [
    "function do_complex_roots(range = 5:0.1:5) # default value\n",
    "    \n",
    "    L = length(range)\n",
    "    roots = zeros(ComplexF64, L, L) \n",
    "    \n",
    "    for(i, x) in enumerate(range)\n",
    "        for(j, y) in enumerate(range)\n",
    "            \n",
    "            z = x + y*im\n",
    "    \n",
    "            for k in 1:100\n",
    "                z = z - f(z) / f′(z)\n",
    "            end\n",
    "            \n",
    "            roots[i,j] = z   \n",
    "        end        \n",
    "    \n",
    "    end\n",
    "    \n",
    "    roots   \n",
    "end"
   ]
  },
  {
   "cell_type": "code",
   "execution_count": 41,
   "metadata": {},
   "outputs": [
    {
     "data": {
      "text/plain": [
       "101×101 Array{Complex{Float64},2}:\n",
       " -0.5-0.866025im  -0.5-0.866025im  …  -0.5+0.866025im  -0.5+0.866025im\n",
       " -0.5-0.866025im  -0.5-0.866025im     -0.5+0.866025im  -0.5+0.866025im\n",
       " -0.5-0.866025im  -0.5-0.866025im     -0.5+0.866025im  -0.5+0.866025im\n",
       " -0.5-0.866025im  -0.5-0.866025im     -0.5+0.866025im  -0.5+0.866025im\n",
       " -0.5-0.866025im  -0.5-0.866025im     -0.5+0.866025im  -0.5+0.866025im\n",
       " -0.5-0.866025im  -0.5-0.866025im  …  -0.5+0.866025im  -0.5+0.866025im\n",
       " -0.5-0.866025im  -0.5-0.866025im     -0.5+0.866025im  -0.5+0.866025im\n",
       " -0.5-0.866025im  -0.5-0.866025im     -0.5+0.866025im  -0.5+0.866025im\n",
       " -0.5-0.866025im  -0.5-0.866025im     -0.5+0.866025im  -0.5+0.866025im\n",
       " -0.5-0.866025im  -0.5-0.866025im     -0.5+0.866025im  -0.5+0.866025im\n",
       " -0.5-0.866025im  -0.5-0.866025im  …  -0.5+0.866025im  -0.5+0.866025im\n",
       " -0.5-0.866025im  -0.5-0.866025im     -0.5+0.866025im  -0.5+0.866025im\n",
       " -0.5-0.866025im  -0.5-0.866025im     -0.5+0.866025im  -0.5+0.866025im\n",
       "     ⋮                             ⋱                       ⋮\n",
       "  1.0+0.0im        1.0+0.0im           1.0+0.0im        1.0+0.0im\n",
       "  1.0+0.0im        1.0+0.0im       …   1.0+0.0im        1.0+0.0im\n",
       "  1.0+0.0im        1.0+0.0im           1.0+0.0im        1.0+0.0im\n",
       "  1.0+0.0im        1.0+0.0im           1.0+0.0im        1.0+0.0im\n",
       "  1.0+0.0im        1.0+0.0im           1.0+0.0im        1.0+0.0im\n",
       "  1.0+0.0im        1.0+0.0im           1.0+0.0im        1.0+0.0im\n",
       "  1.0+0.0im        1.0+0.0im       …   1.0+0.0im        1.0+0.0im\n",
       "  1.0+0.0im        1.0+0.0im           1.0+0.0im        1.0+0.0im\n",
       "  1.0+0.0im        1.0+0.0im           1.0+0.0im        1.0+0.0im\n",
       "  1.0+0.0im        1.0+0.0im           1.0+0.0im        1.0+0.0im\n",
       "  1.0+0.0im        1.0+0.0im           1.0+0.0im        1.0+0.0im\n",
       "  1.0+0.0im        1.0+0.0im       …   1.0+0.0im        1.0+0.0im"
      ]
     },
     "execution_count": 41,
     "metadata": {},
     "output_type": "execute_result"
    }
   ],
   "source": [
    "roots = do_complex_roots(-5:0.1:5)"
   ]
  },
  {
   "cell_type": "code",
   "execution_count": 42,
   "metadata": {},
   "outputs": [],
   "source": [
    "using PyPlot"
   ]
  },
  {
   "cell_type": "code",
   "execution_count": 43,
   "metadata": {},
   "outputs": [
    {
     "data": {
      "image/png": "[encoded data removed]",
      "text/plain": [
       "Figure(PyObject <Figure size 640x480 with 1 Axes>)"
      ]
     },
     "metadata": {},
     "output_type": "display_data"
    },
    {
     "data": {
      "text/plain": [
       "PyObject <matplotlib.image.AxesImage object at 0x7f77a26a7240>"
      ]
     },
     "execution_count": 43,
     "metadata": {},
     "output_type": "execute_result"
    }
   ],
   "source": [
    "imshow(imag(roots))"
   ]
  },
  {
   "cell_type": "code",
   "execution_count": 46,
   "metadata": {},
   "outputs": [
    {
     "name": "stdout",
     "output_type": "stream",
     "text": [
      "search: \u001b[0m\u001b[1mi\u001b[22m\u001b[0m\u001b[1mm\u001b[22m\u001b[0m\u001b[1ma\u001b[22m\u001b[0m\u001b[1mg\u001b[22m f\u001b[0m\u001b[1mi\u001b[22mgi\u001b[0m\u001b[1mm\u001b[22m\u001b[0m\u001b[1ma\u001b[22m\u001b[0m\u001b[1mg\u001b[22me get_current_f\u001b[0m\u001b[1mi\u001b[22mg_\u001b[0m\u001b[1mm\u001b[22m\u001b[0m\u001b[1ma\u001b[22mna\u001b[0m\u001b[1mg\u001b[22mer \u001b[0m\u001b[1mi\u001b[22m\u001b[0m\u001b[1mm\u001b[22ms\u001b[0m\u001b[1ma\u001b[22mve \u001b[0m\u001b[1mi\u001b[22ms\u001b[0m\u001b[1mm\u001b[22m\u001b[0m\u001b[1ma\u001b[22mrked m\u001b[0m\u001b[1mi\u001b[22mn\u001b[0m\u001b[1mm\u001b[22m\u001b[0m\u001b[1ma\u001b[22mx B\u001b[0m\u001b[1mi\u001b[22mt\u001b[0m\u001b[1mM\u001b[22m\u001b[0m\u001b[1ma\u001b[22mtrix\n",
      "\n"
     ]
    },
    {
     "data": {
      "text/latex": [
       "\\begin{verbatim}\n",
       "imag(z)\n",
       "\\end{verbatim}\n",
       "Return the imaginary part of the complex number \\texttt{z}.\n",
       "\n",
       "\\section{Examples}\n",
       "\\begin{verbatim}\n",
       "julia> imag(1 + 3im)\n",
       "3\n",
       "\\end{verbatim}\n"
      ],
      "text/markdown": [
       "```\n",
       "imag(z)\n",
       "```\n",
       "\n",
       "Return the imaginary part of the complex number `z`.\n",
       "\n",
       "# Examples\n",
       "\n",
       "```jldoctest\n",
       "julia> imag(1 + 3im)\n",
       "3\n",
       "```\n"
      ],
      "text/plain": [
       "\u001b[36m  imag(z)\u001b[39m\n",
       "\n",
       "  Return the imaginary part of the complex number \u001b[36mz\u001b[39m.\n",
       "\n",
       "\u001b[1m  Examples\u001b[22m\n",
       "\u001b[1m  ≡≡≡≡≡≡≡≡≡≡\u001b[22m\n",
       "\n",
       "\u001b[36m  julia> imag(1 + 3im)\u001b[39m\n",
       "\u001b[36m  3\u001b[39m"
      ]
     },
     "execution_count": 46,
     "metadata": {},
     "output_type": "execute_result"
    }
   ],
   "source": [
    "?imag"
   ]
  },
  {
   "cell_type": "code",
   "execution_count": 45,
   "metadata": {
    "collapsed": true
   },
   "outputs": [
    {
     "name": "stdout",
     "output_type": "stream",
     "text": [
      "search: \u001b[0m\u001b[1mi\u001b[22m\u001b[0m\u001b[1mm\u001b[22m\u001b[0m\u001b[1ms\u001b[22m\u001b[0m\u001b[1mh\u001b[22m\u001b[0m\u001b[1mo\u001b[22m\u001b[0m\u001b[1mw\u001b[22m\n",
      "\n"
     ]
    },
    {
     "data": {
      "text/plain": [
       "Display an image, i.e. data on a 2D regular raster.\n",
       "\n",
       "Parameters\n",
       "----------\n",
       "X : array-like or PIL image\n",
       "    The image data. Supported array shapes are:\n",
       "\n",
       "    - (M, N): an image with scalar data. The data is visualized\n",
       "      using a colormap.\n",
       "    - (M, N, 3): an image with RGB values (0-1 float or 0-255 int).\n",
       "    - (M, N, 4): an image with RGBA values (0-1 float or 0-255 int),\n",
       "      i.e. including transparency.\n",
       "\n",
       "    The first two dimensions (M, N) define the rows and columns of\n",
       "    the image.\n",
       "\n",
       "    Out-of-range RGB(A) values are clipped.\n",
       "\n",
       "cmap : str or `~matplotlib.colors.Colormap`, optional\n",
       "    The Colormap instance or registered colormap name used to map\n",
       "    scalar data to colors. This parameter is ignored for RGB(A) data.\n",
       "    Defaults to :rc:`image.cmap`.\n",
       "\n",
       "norm : `~matplotlib.colors.Normalize`, optional\n",
       "    The `Normalize` instance used to scale scalar data to the [0, 1]\n",
       "    range before mapping to colors using *cmap*. By default, a linear\n",
       "    scaling mapping the lowest value to 0 and the highest to 1 is used.\n",
       "    This parameter is ignored for RGB(A) data.\n",
       "\n",
       "aspect : {'equal', 'auto'} or float, optional\n",
       "    Controls the aspect ratio of the axes. The aspect is of particular\n",
       "    relevance for images since it may distort the image, i.e. pixel\n",
       "    will not be square.\n",
       "\n",
       "    This parameter is a shortcut for explicitly calling\n",
       "    `.Axes.set_aspect`. See there for further details.\n",
       "\n",
       "    - 'equal': Ensures an aspect ratio of 1. Pixels will be square\n",
       "      (unless pixel sizes are explicitly made non-square in data\n",
       "      coordinates using *extent*).\n",
       "    - 'auto': The axes is kept fixed and the aspect is adjusted so\n",
       "      that the data fit in the axes. In general, this will result in\n",
       "      non-square pixels.\n",
       "\n",
       "    If not given, use :rc:`image.aspect` (default: 'equal').\n",
       "\n",
       "interpolation : str, optional\n",
       "    The interpolation method used. If *None*\n",
       "    :rc:`image.interpolation` is used, which defaults to 'nearest'.\n",
       "\n",
       "    Supported values are 'none', 'nearest', 'bilinear', 'bicubic',\n",
       "    'spline16', 'spline36', 'hanning', 'hamming', 'hermite', 'kaiser',\n",
       "    'quadric', 'catrom', 'gaussian', 'bessel', 'mitchell', 'sinc',\n",
       "    'lanczos'.\n",
       "\n",
       "    If *interpolation* is 'none', then no interpolation is performed\n",
       "    on the Agg, ps, pdf and svg backends. Other backends will fall back\n",
       "    to 'nearest'. Note that most SVG renders perform interpolation at\n",
       "    rendering and that the default interpolation method they implement\n",
       "    may differ.\n",
       "\n",
       "    See\n",
       "    :doc:`/gallery/images_contours_and_fields/interpolation_methods`\n",
       "    for an overview of the supported interpolation methods.\n",
       "\n",
       "    Some interpolation methods require an additional radius parameter,\n",
       "    which can be set by *filterrad*. Additionally, the antigrain image\n",
       "    resize filter is controlled by the parameter *filternorm*.\n",
       "\n",
       "alpha : scalar, optional\n",
       "    The alpha blending value, between 0 (transparent) and 1 (opaque).\n",
       "    This parameter is ignored for RGBA input data.\n",
       "\n",
       "vmin, vmax : scalar, optional\n",
       "    When using scalar data and no explicit *norm*, *vmin* and *vmax*\n",
       "    define the data range that the colormap covers. By default,\n",
       "    the colormap covers the complete value range of the supplied\n",
       "    data. *vmin*, *vmax* are ignored if the *norm* parameter is used.\n",
       "\n",
       "origin : {'upper', 'lower'}, optional\n",
       "    Place the [0,0] index of the array in the upper left or lower left\n",
       "    corner of the axes. The convention 'upper' is typically used for\n",
       "    matrices and images.\n",
       "    If not given, :rc:`image.origin` is used, defaulting to 'upper'.\n",
       "\n",
       "    Note that the vertical axes points upward for 'lower'\n",
       "    but downward for 'upper'.\n",
       "\n",
       "    See the :doc:`/tutorials/intermediate/imshow_extent` tutorial for\n",
       "    examples and a more detailed description.\n",
       "\n",
       "extent : scalars (left, right, bottom, top), optional\n",
       "    The bounding box in data coordinates that the image will fill.\n",
       "    The image is stretched individually along x and y to fill the box.\n",
       "\n",
       "    The default extent is determined by the following conditions.\n",
       "    Pixels have unit size in data coordinates. Their centers are on\n",
       "    integer coordinates, and their center coordinates range from 0 to\n",
       "    columns-1 horizontally and from 0 to rows-1 vertically.\n",
       "\n",
       "    Note that the direction of the vertical axis and thus the default\n",
       "    values for top and bottom depend on *origin*:\n",
       "\n",
       "    - For ``origin == 'upper'`` the default is\n",
       "      ``(-0.5, numcols-0.5, numrows-0.5, -0.5)``.\n",
       "    - For ``origin == 'lower'`` the default is\n",
       "      ``(-0.5, numcols-0.5, -0.5, numrows-0.5)``.\n",
       "\n",
       "    See the :doc:`/tutorials/intermediate/imshow_extent` tutorial for\n",
       "    examples and a more detailed description.\n",
       "\n",
       "filternorm : bool, optional, default: True\n",
       "    A parameter for the antigrain image resize filter (see the\n",
       "    antigrain documentation).  If *filternorm* is set, the filter\n",
       "    normalizes integer values and corrects the rounding errors. It\n",
       "    doesn't do anything with the source floating point values, it\n",
       "    corrects only integers according to the rule of 1.0 which means\n",
       "    that any sum of pixel weights must be equal to 1.0.  So, the\n",
       "    filter function must produce a graph of the proper shape.\n",
       "\n",
       "filterrad : float > 0, optional, default: 4.0\n",
       "    The filter radius for filters that have a radius parameter, i.e.\n",
       "    when interpolation is one of: 'sinc', 'lanczos' or 'blackman'.\n",
       "\n",
       "resample : bool, optional\n",
       "    When *True*, use a full resampling method.  When *False*, only\n",
       "    resample when the output image is larger than the input image.\n",
       "\n",
       "url : str, optional\n",
       "    Set the url of the created `.AxesImage`. See `.Artist.set_url`.\n",
       "\n",
       "Returns\n",
       "-------\n",
       "image : `~matplotlib.image.AxesImage`\n",
       "\n",
       "Other Parameters\n",
       "----------------\n",
       "**kwargs : `~matplotlib.artist.Artist` properties\n",
       "    These parameters are passed on to the constructor of the\n",
       "    `.AxesImage` artist.\n",
       "\n",
       "See also\n",
       "--------\n",
       "matshow : Plot a matrix or an array as an image.\n",
       "\n",
       "Notes\n",
       "-----\n",
       "Unless *extent* is used, pixel centers will be located at integer\n",
       "coordinates. In other words: the origin will coincide with the center\n",
       "of pixel (0, 0).\n",
       "\n",
       "There are two common representations for RGB images with an alpha\n",
       "channel:\n",
       "\n",
       "-   Straight (unassociated) alpha: R, G, and B channels represent the\n",
       "    color of the pixel, disregarding its opacity.\n",
       "-   Premultiplied (associated) alpha: R, G, and B channels represent\n",
       "    the color of the pixel, adjusted for its opacity by multiplication.\n",
       "\n",
       "`~matplotlib.pyplot.imshow` expects RGB images adopting the straight\n",
       "(unassociated) alpha representation.\n",
       "\n",
       ".. note::\n",
       "    In addition to the above described arguments, this function can take a\n",
       "    **data** keyword argument. If such a **data** argument is given, the\n",
       "    following arguments are replaced by **data[<arg>]**:\n",
       "\n",
       "    * All positional and all keyword arguments.\n",
       "\n",
       "    Objects passed as **data** must support item access (``data[<arg>]``) and\n",
       "    membership test (``<arg> in data``).\n"
      ]
     },
     "execution_count": 45,
     "metadata": {},
     "output_type": "execute_result"
    }
   ],
   "source": [
    "?imshow"
   ]
  },
  {
   "cell_type": "markdown",
   "metadata": {},
   "source": [
    "Julia utiliza almacenamiento con preferencia en columna (*column-major storage*), lo cual hace que los **cálculos por columna sea mucho más rápidos** que por renglón (en Python sucede lo contrario).\n",
    "\n",
    "Cambiemos los ejes para tener mejor comprensión del gráfico obtenido...  "
   ]
  },
  {
   "cell_type": "code",
   "execution_count": 47,
   "metadata": {},
   "outputs": [
    {
     "data": {
      "image/png": "[encoded data removed]",
      "text/plain": [
       "Figure(PyObject <Figure size 640x480 with 1 Axes>)"
      ]
     },
     "metadata": {},
     "output_type": "display_data"
    },
    {
     "data": {
      "text/plain": [
       "PyObject <matplotlib.image.AxesImage object at 0x7f77a2507fd0>"
      ]
     },
     "execution_count": 47,
     "metadata": {},
     "output_type": "execute_result"
    }
   ],
   "source": [
    "imshow(imag(do_complex_roots(-3:0.01:3)))"
   ]
  },
  {
   "cell_type": "code",
   "execution_count": 48,
   "metadata": {},
   "outputs": [
    {
     "name": "stderr",
     "output_type": "stream",
     "text": [
      "\u001b[32m\u001b[1m   Updating\u001b[22m\u001b[39m registry at `~/.julia/registries/General`\n"
     ]
    },
    {
     "name": "stdout",
     "output_type": "stream",
     "text": [
      "\u001b[?25l    "
     ]
    },
    {
     "name": "stderr",
     "output_type": "stream",
     "text": [
      "\u001b[32m\u001b[1m   Updating\u001b[22m\u001b[39m git-repo `https://github.com/JuliaRegistries/General.git`\n"
     ]
    },
    {
     "name": "stdout",
     "output_type": "stream",
     "text": [
      "\u001b[2K\u001b[?25h[1mFetching:\u001b[22m\u001b[39m [========================================>]  99.9 %]  26.0 %>                     ]  45.5 %6 %         ]  75.4 %\u001b[36m\u001b[1mFetching:\u001b[22m\u001b[39m [======================================>  ]  92.6 %"
     ]
    },
    {
     "name": "stderr",
     "output_type": "stream",
     "text": [
      "\u001b[32m\u001b[1m  Resolving\u001b[22m\u001b[39m package versions...\n",
      "\u001b[32m\u001b[1mUpdating\u001b[22m\u001b[39m `~/.julia/environments/v1.5/Project.toml`\n",
      " \u001b[90m [b964fa9f] \u001b[39m\u001b[92m+ LaTeXStrings v1.2.0\u001b[39m\n",
      "\u001b[32m\u001b[1mNo Changes\u001b[22m\u001b[39m to `~/.julia/environments/v1.5/Manifest.toml`\n"
     ]
    }
   ],
   "source": [
    "using Pkg\n",
    "Pkg.add(\"LaTeXStrings\")"
   ]
  },
  {
   "cell_type": "code",
   "execution_count": 49,
   "metadata": {},
   "outputs": [],
   "source": [
    "using LaTeXStrings"
   ]
  },
  {
   "cell_type": "code",
   "execution_count": 50,
   "metadata": {},
   "outputs": [
    {
     "data": {
      "image/png": "[encoded data removed]",
      "text/plain": [
       "Figure(PyObject <Figure size 640x480 with 1 Axes>)"
      ]
     },
     "metadata": {},
     "output_type": "display_data"
    },
    {
     "data": {
      "text/plain": [
       "PyObject Text(-0.4999999999999998, -0.8660254037844387, '$e^{-2\\\\frac{\\\\pi}{3}}$')"
      ]
     },
     "execution_count": 50,
     "metadata": {},
     "output_type": "execute_result"
    }
   ],
   "source": [
    "imshow(imag(do_complex_roots(-3:0.01:3)), extent=(-2, 2, -2, 2), cmap=\"PuBu\")\n",
    "text(1, 0, L\"1\")\n",
    "text(reim(exp(2π*im/3))..., L\"e^{2\\frac{\\pi}{3}}\")\n",
    "text(reim(exp(-2π*im/3))..., L\"e^{-2\\frac{\\pi}{3}}\")"
   ]
  },
  {
   "cell_type": "code",
   "execution_count": null,
   "metadata": {},
   "outputs": [],
   "source": []
  }
 ],
 "metadata": {
  "kernelspec": {
   "display_name": "Julia 1.6.2",
   "language": "julia",
   "name": "julia-1.6"
  },
  "language_info": {
   "file_extension": ".jl",
   "mimetype": "application/julia",
   "name": "julia",
   "version": "1.6.2"
  }
 },
 "nbformat": 4,
 "nbformat_minor": 4
}
