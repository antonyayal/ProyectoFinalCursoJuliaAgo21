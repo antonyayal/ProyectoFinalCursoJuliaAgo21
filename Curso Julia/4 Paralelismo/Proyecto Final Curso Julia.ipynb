{
 "cells": [
  {
   "cell_type": "markdown",
   "id": "f238c61c",
   "metadata": {},
   "source": [
    "<center><h1> Resolución de la Matriz de Khon-Shan </h1></center>\n",
    "<center><h2> Proyecto Final Julia IIMAS ago 2021 </h2></center>\n",
    "<center><h3> Autor: José Antonio Ayala Barbosa </h3></center>"
   ]
  },
  {
   "cell_type": "markdown",
   "id": "ab0e8088",
   "metadata": {},
   "source": [
    "#  Matriz de Khon-Shan\n",
    "\n",
    "- La ecuación de Khon-Sham se usa para determinar, de manera aproximada, el nivel de energía más bajo de un sistema atómico.\n",
    "- El método para su obtención, consiste en proponer una función tentativa que depende de varios parámetros, entre ellos la posicion de los electrones con respecto a los nucleos, los cuales se varían hasta que se tenga una energía mínima. \n",
    "- La ecuación es de tipo cuadrática, por lo que puede transformarse en una matriz cuadrática para encontrar su solución.\n",
    "\n",
    "## Algoritmo numérico para su resolución\n",
    "\n",
    "- Un método numerico utilizado para resolver la matriz de Khon-Sham, es el método de Jacobi.\n",
    "- Matriz Khon-Sham tiene forma cuadrática (matriz simétrica o Hermitiana):\n",
    "<div>\n",
    "<img src=\"https://github.com/antonyayal/ProyectoFinalCursoJuliaAgo21/blob/4dea0a52ce0125dfe7018d61d843d7f81edcbc9c/Matriz.png\" width=\"300\"/>\n",
    "</div>\n",
    "\n",
    "## Objetivo. \n",
    "Encontrar:\n",
    "- Los eigenvalores, tambien llamados valores caracteristicos de la matriz, son los escalares alojados en la diagonal principal (en caso de la matriz de Khon-Sham, estos escalares son las energías de los electrones del sistema atómico).\n",
    "- Los eigenvectores, vectores columna a los que les corresponde un eigenvalor, (representan los estados en los que están los electrones).\n",
    "<div>\n",
    "<img src=\"https://github.com/antonyayal/ProyectoFinalCursoJuliaAgo21/blob/4dea0a52ce0125dfe7018d61d843d7f81edcbc9c/eigenvalores%20y%20eigenvectores.png\" width=\"300\"/>\n",
    "</div>\n",
    "\n",
    "## Diagonalización de matriz:\n",
    "-Eliminar elementos fuera de diagonal para encontrar energias de los electrones.\n",
    "<div>\n",
    "<img src=\"https://github.com/antonyayal/ProyectoFinalCursoJuliaAgo21/blob/4dea0a52ce0125dfe7018d61d843d7f81edcbc9c/Rotacion%20matrices.png\" width=\"300\"/>\n",
    "</div>\n",
    "\n",
    "### Obtencion de eigenvectores por sustitución\n",
    "<div>\n",
    "<img src=\"https://github.com/antonyayal/ProyectoFinalCursoJuliaAgo21/blob/4dea0a52ce0125dfe7018d61d843d7f81edcbc9c/Sustitucion.png\" width=\"300\"/>\n",
    "</div>\n",
    "\n",
    "## Referencia\n",
    "[1] Ayala-Barbosa, José Antonio. (2018) \"Diagonalización de la matriz de Khon Sham...\". Proyecto Final. Especialidad Cómputo de Alto Rendimiento\". IIMAS UNAM. http://132.248.9.195/ptd2018/noviembre/0783467/Index.html"
   ]
  },
  {
   "cell_type": "markdown",
   "id": "ef8e1da4",
   "metadata": {},
   "source": [
    "# Algortimo Jacobi"
   ]
  },
  {
   "cell_type": "code",
   "execution_count": 465,
   "id": "c4652f10",
   "metadata": {},
   "outputs": [
    {
     "data": {
      "text/plain": [
       "max_element (generic function with 1 method)"
      ]
     },
     "execution_count": 465,
     "metadata": {},
     "output_type": "execute_result"
    }
   ],
   "source": [
    "#Busca el máximo elemento en el triangulo superior\n",
    "function max_element(mat)\n",
    "    n=size(mat,1)\n",
    "    piv_r = 1 \n",
    "    piv_c = 2 #primera coordenada fuera de diagonal principal\n",
    "    for r in 1:n-1\n",
    "        for c in r+1:n\n",
    "            if abs(mat[r,c]) > abs(mat[piv_r,piv_c])\n",
    "                piv_r = r\n",
    "                piv_c = c\n",
    "            end\n",
    "        end\n",
    "    end\n",
    "    return piv_r, piv_c\n",
    "end\n",
    "#a,b = max_element(mat)"
   ]
  },
  {
   "cell_type": "code",
   "execution_count": 466,
   "id": "46661796",
   "metadata": {},
   "outputs": [],
   "source": [
    "#mat[a,b]"
   ]
  },
  {
   "cell_type": "code",
   "execution_count": 467,
   "id": "b48a2f76",
   "metadata": {},
   "outputs": [
    {
     "data": {
      "text/plain": [
       "cal_tang (generic function with 1 method)"
      ]
     },
     "execution_count": 467,
     "metadata": {},
     "output_type": "execute_result"
    }
   ],
   "source": [
    "#Calculo de tangente\n",
    "function cal_tang(mat,piv_r,piv_c)\n",
    "    \n",
    "    numerador = 2 * mat[piv_r,piv_c]\n",
    "    \n",
    "    a1 = mat[piv_r,piv_r] - mat[piv_c,piv_c]\n",
    "    a2 = a1^2\n",
    "    a3 = 4 * mat[piv_r,piv_c] * mat[piv_r,piv_c]\n",
    "    \n",
    "    denominador = a2 + a3\n",
    "    denominador = √(denominador)\n",
    "    denominador = abs(a1) + denominador\n",
    "    return numerador/denominador\n",
    "end"
   ]
  },
  {
   "cell_type": "code",
   "execution_count": 468,
   "id": "1fabbe8f",
   "metadata": {},
   "outputs": [
    {
     "data": {
      "text/plain": [
       "cal_cose (generic function with 2 methods)"
      ]
     },
     "execution_count": 468,
     "metadata": {},
     "output_type": "execute_result"
    }
   ],
   "source": [
    "#Calculo de coseno\n",
    "function cal_cose(tang)\n",
    "    cose = 1 + tang^2\n",
    "    cose = √(cose)\n",
    "    cose = 1 / cose\n",
    "    return cose\n",
    "end"
   ]
  },
  {
   "cell_type": "code",
   "execution_count": 469,
   "id": "7875738b",
   "metadata": {},
   "outputs": [
    {
     "data": {
      "text/plain": [
       "cal_sino (generic function with 1 method)"
      ]
     },
     "execution_count": 469,
     "metadata": {},
     "output_type": "execute_result"
    }
   ],
   "source": [
    "#Calculo de seno\n",
    "function cal_sino(cose,tang)\n",
    "    return cose*tang\n",
    "end"
   ]
  },
  {
   "cell_type": "code",
   "execution_count": 470,
   "id": "92488f53",
   "metadata": {},
   "outputs": [
    {
     "data": {
      "text/plain": [
       "10×10 Matrix{Float64}:\n",
       " 0.707107  -0.707107  0.0  0.0  0.0  0.0  0.0  0.0  0.0  0.0\n",
       " 0.707107   0.707107  0.0  0.0  0.0  0.0  0.0  0.0  0.0  0.0\n",
       " 0.0        0.0       1.0  0.0  0.0  0.0  0.0  0.0  0.0  0.0\n",
       " 0.0        0.0       0.0  1.0  0.0  0.0  0.0  0.0  0.0  0.0\n",
       " 0.0        0.0       0.0  0.0  1.0  0.0  0.0  0.0  0.0  0.0\n",
       " 0.0        0.0       0.0  0.0  0.0  1.0  0.0  0.0  0.0  0.0\n",
       " 0.0        0.0       0.0  0.0  0.0  0.0  1.0  0.0  0.0  0.0\n",
       " 0.0        0.0       0.0  0.0  0.0  0.0  0.0  1.0  0.0  0.0\n",
       " 0.0        0.0       0.0  0.0  0.0  0.0  0.0  0.0  1.0  0.0\n",
       " 0.0        0.0       0.0  0.0  0.0  0.0  0.0  0.0  0.0  1.0"
      ]
     },
     "execution_count": 470,
     "metadata": {},
     "output_type": "execute_result"
    }
   ],
   "source": [
    "#Crea matriz T\n",
    "\n",
    "function matrizT(mat,piv_r,piv_c)\n",
    "    n=size(mat,1)\n",
    "    tang = cal_tang(mat,piv_r,piv_c)\n",
    "    cose = cal_cose(tang)\n",
    "    sino = cal_sino(cose,tang)\n",
    "    \n",
    "    T = Matrix(1.0I, n, n)\n",
    "    \n",
    "    T[piv_r,piv_r] = cose\n",
    "    T[piv_c,piv_c] = cose\n",
    "    T[piv_r,piv_c] = -sino\n",
    "    T[piv_c,piv_r] = sino\n",
    "    return T\n",
    "end\n",
    "matrizT(mat,1,2)"
   ]
  },
  {
   "cell_type": "code",
   "execution_count": 471,
   "id": "292dab9d",
   "metadata": {},
   "outputs": [
    {
     "data": {
      "text/plain": [
       "jacobimult (generic function with 2 methods)"
      ]
     },
     "execution_count": 471,
     "metadata": {},
     "output_type": "execute_result"
    }
   ],
   "source": [
    "function jacobimult(mat,eivec,eival)\n",
    "\n",
    "nrot = 0 \n",
    "threshold = false\n",
    "while threshold != true #Desde cero hasta que se alcance el threshold\n",
    "    piv_r,piv_c = max_element(mat) #Busca el máximo elemento en el triangulo superior\n",
    "    \n",
    "    #EPS = .0000001\n",
    "    \n",
    "    if abs(mat[piv_r,piv_c]) < eps() || nrot > 50_000\n",
    "            threshold = true #Sale del metodo\n",
    "    \n",
    "\n",
    "    else\n",
    "        T = matrizT(mat,piv_r,piv_c) #Crea matriz T      \n",
    "        eivec = eivec * T #Multiplica T con eigenvectores    \n",
    "        mat = T' * mat * T #Gira matriz\n",
    "\n",
    "        nrot = nrot + 1 #Contador de rotaciones\n",
    "    end\n",
    "end\n",
    "\n",
    "eival = diag(mat) #Copia diagonal a eival\n",
    "    \n",
    "return mat,eivec,eival,nrot\n",
    "end"
   ]
  },
  {
   "cell_type": "markdown",
   "id": "7bf15271",
   "metadata": {},
   "source": [
    "## Función crea matrices homogeneas"
   ]
  },
  {
   "cell_type": "code",
   "execution_count": 472,
   "id": "531cd440",
   "metadata": {},
   "outputs": [
    {
     "data": {
      "text/plain": [
       "creaMatHomogeneas (generic function with 1 method)"
      ]
     },
     "execution_count": 472,
     "metadata": {},
     "output_type": "execute_result"
    }
   ],
   "source": [
    "function creaMatHomogeneas(np)\n",
    "    mat=zeros(np,np)\n",
    "    #Crea matriz homogenea\n",
    "\n",
    "    for i in 1:np\n",
    "        k=ceil(np/2)\n",
    "        for j in i:np        \n",
    "            mat[i,j] = k\n",
    "            mat[j,i] = k\n",
    "            k=k-1\n",
    "        end\n",
    "    end\n",
    "    return mat\n",
    "end"
   ]
  },
  {
   "cell_type": "markdown",
   "id": "69c27198",
   "metadata": {},
   "source": [
    "# Asignación de matrices"
   ]
  },
  {
   "cell_type": "code",
   "execution_count": 473,
   "id": "c5c09ed2",
   "metadata": {},
   "outputs": [
    {
     "data": {
      "text/plain": [
       "asignaValorMatrices (generic function with 1 method)"
      ]
     },
     "execution_count": 473,
     "metadata": {},
     "output_type": "execute_result"
    }
   ],
   "source": [
    "using LinearAlgebra\n",
    "function asignaValorMatrices(np)\n",
    "    #Matriz a rotar\n",
    "    mat = creaMatHomogeneas(np)\n",
    "    #Matriz eigenvectores\n",
    "    eivec = Matrix(1.0I, np, np)\n",
    "    #Vector eigenvalores\n",
    "    eival = zeros(np)\n",
    "    return mat, eivec, eival\n",
    "end"
   ]
  },
  {
   "cell_type": "markdown",
   "id": "ed1aa71a",
   "metadata": {},
   "source": [
    "# Driver"
   ]
  },
  {
   "cell_type": "code",
   "execution_count": 495,
   "id": "0c01985e",
   "metadata": {
    "scrolled": true
   },
   "outputs": [
    {
     "ename": "LoadError",
     "evalue": "syntax: \"$\" expression outside quote around In[495]:4",
     "output_type": "error",
     "traceback": [
      "syntax: \"$\" expression outside quote around In[495]:4",
      "",
      "Stacktrace:",
      " [1] top-level scope",
      "   @ In[495]:4",
      " [2] eval",
      "   @ ./boot.jl:360 [inlined]",
      " [3] include_string(mapexpr::typeof(REPL.softscope), mod::Module, code::String, filename::String)",
      "   @ Base ./loading.jl:1116"
     ]
    }
   ],
   "source": [
    "np = 10 #Orden de la matriz a evaluar\n",
    "\n",
    "mat, eivec, eival = asignaValorMatrices(np)\n",
    "mat,eivec,eival,nrot = jacobimult($mat,$eivec,$eival)"
   ]
  },
  {
   "cell_type": "markdown",
   "id": "fa3f81c3",
   "metadata": {},
   "source": [
    "# Resultados"
   ]
  },
  {
   "cell_type": "code",
   "execution_count": 490,
   "id": "81fce75f",
   "metadata": {
    "scrolled": false
   },
   "outputs": [
    {
     "data": {
      "text/plain": [
       "10×10 Matrix{Float64}:\n",
       " 20.4317       -1.64517e-16   5.31083e-25  …   1.03759e-20   3.9271e-31\n",
       " -4.94223e-16  20.4317       -6.35435e-25     -5.04879e-29  -4.93038e-32\n",
       "  8.72298e-16  -6.56097e-17   2.42592         -2.57471e-23  -4.95101e-21\n",
       "  1.85341e-16   9.50948e-16  -3.71609e-16     -1.03723e-29   1.82552e-23\n",
       " -1.33082e-16  -2.2445e-15   -1.45792e-16      2.60419e-18   3.48439e-18\n",
       " -5.09217e-16  -9.22909e-16  -8.22949e-17  …   8.05818e-18  -1.12606e-18\n",
       " -1.83027e-16   2.2369e-15    1.95342e-16      5.17877e-18  -6.12059e-17\n",
       "  1.53103e-16  -9.65074e-17  -1.65554e-16      7.17871e-18  -1.19379e-17\n",
       "  4.40736e-16  -1.51401e-15  -2.23495e-16      0.512543      3.59961e-17\n",
       " -1.05219e-15  -9.51911e-16   2.58634e-16      7.39484e-17   0.512543"
      ]
     },
     "execution_count": 490,
     "metadata": {},
     "output_type": "execute_result"
    }
   ],
   "source": [
    "mat"
   ]
  },
  {
   "cell_type": "code",
   "execution_count": 491,
   "id": "d7d2fc9e",
   "metadata": {},
   "outputs": [
    {
     "data": {
      "text/plain": [
       "10×10 Matrix{Float64}:\n",
       "  0.441152   -0.0733806  -0.0931619  …   0.366514    0.0454835   0.444895\n",
       "  0.442237    0.0665344  -0.408625      -0.422748   -0.180737   -0.409065\n",
       "  0.400032    0.199937   -0.387206       0.130456    0.298299    0.333193\n",
       "  0.318669    0.313768   -0.0465625      0.269388   -0.386662   -0.224706\n",
       "  0.206113    0.396885    0.332468      -0.44714     0.437175    0.0942226\n",
       "  0.0733806   0.441152    0.437402   …   0.256257   -0.444895    0.0454835\n",
       " -0.0665344   0.442237    0.181729       0.145892    0.409065   -0.180737\n",
       " -0.199937    0.400032   -0.223767      -0.427763   -0.333193    0.298299\n",
       " -0.313768    0.318669   -0.444783       0.356974    0.224706   -0.386662\n",
       " -0.396885    0.206113   -0.299107       0.0081155  -0.0942226   0.437175"
      ]
     },
     "execution_count": 491,
     "metadata": {},
     "output_type": "execute_result"
    }
   ],
   "source": [
    "eivec"
   ]
  },
  {
   "cell_type": "code",
   "execution_count": 492,
   "id": "bcf771b4",
   "metadata": {},
   "outputs": [
    {
     "data": {
      "text/plain": [
       "10-element Vector{Float64}:\n",
       " 20.431729094530716\n",
       " 20.43172909453074\n",
       "  2.425919998159593\n",
       "  2.4259199981595954\n",
       "  1.0000000000000018\n",
       "  0.9999999999999999\n",
       "  0.6298080918412505\n",
       "  0.6298080918412491\n",
       "  0.5125428154684589\n",
       "  0.5125428154684587"
      ]
     },
     "execution_count": 492,
     "metadata": {},
     "output_type": "execute_result"
    }
   ],
   "source": [
    "eival"
   ]
  },
  {
   "cell_type": "code",
   "execution_count": 493,
   "id": "ffc8886e",
   "metadata": {},
   "outputs": [
    {
     "data": {
      "text/plain": [
       "183"
      ]
     },
     "execution_count": 493,
     "metadata": {},
     "output_type": "execute_result"
    }
   ],
   "source": [
    "nrot"
   ]
  },
  {
   "cell_type": "code",
   "execution_count": null,
   "id": "263f9e41",
   "metadata": {},
   "outputs": [],
   "source": []
  },
  {
   "cell_type": "code",
   "execution_count": null,
   "id": "0d1e0f81",
   "metadata": {},
   "outputs": [],
   "source": []
  }
 ],
 "metadata": {
  "kernelspec": {
   "display_name": "Julia 1.6.2",
   "language": "julia",
   "name": "julia-1.6"
  },
  "language_info": {
   "file_extension": ".jl",
   "mimetype": "application/julia",
   "name": "julia",
   "version": "1.6.2"
  }
 },
 "nbformat": 4,
 "nbformat_minor": 5
}
